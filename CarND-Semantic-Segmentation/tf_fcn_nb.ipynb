{
  "nbformat": 4,
  "nbformat_minor": 0,
  "metadata": {
    "colab": {
      "name": "keras-fcn.ipynb",
      "version": "0.3.2",
      "views": {},
      "default_view": {},
      "provenance": [],
      "collapsed_sections": []
    },
    "kernelspec": {
      "name": "python3",
      "display_name": "Python 3"
    },
    "accelerator": "GPU"
  },
  "cells": [
    {
      "metadata": {
        "id": "3ydAuTFOinQT",
        "colab_type": "code",
        "colab": {
          "autoexec": {
            "startup": false,
            "wait_interval": 0
          },
          "base_uri": "https://localhost:8080/",
          "height": 272
        },
        "outputId": "cdb3bc57-0d37-465f-b040-8dc6b2701282",
        "executionInfo": {
          "status": "ok",
          "timestamp": 1528643082572,
          "user_tz": -60,
          "elapsed": 39818,
          "user": {
            "displayName": "Wendy Mak",
            "photoUrl": "//lh5.googleusercontent.com/-9PMowe0a4Nc/AAAAAAAAAAI/AAAAAAAAABI/yRmOh7V39hU/s50-c-k-no/photo.jpg",
            "userId": "110776265957727486628"
          }
        }
      },
      "cell_type": "code",
      "source": [
        "!mkdir data && cd data && wget https://s3.eu-central-1.amazonaws.com/avg-kitti/data_road.zip /data/data_road.zip "
      ],
      "execution_count": 1,
      "outputs": [
        {
          "output_type": "stream",
          "text": [
            "--2018-06-10 15:04:04--  https://s3.eu-central-1.amazonaws.com/avg-kitti/data_road.zip\n",
            "Resolving s3.eu-central-1.amazonaws.com (s3.eu-central-1.amazonaws.com)... 52.219.72.48\n",
            "Connecting to s3.eu-central-1.amazonaws.com (s3.eu-central-1.amazonaws.com)|52.219.72.48|:443... connected.\n",
            "HTTP request sent, awaiting response... 200 OK\n",
            "Length: 470992343 (449M) [application/zip]\n",
            "Saving to: ‘data_road.zip’\n",
            "\n",
            "data_road.zip       100%[===================>] 449.17M  15.6MB/s    in 37s     \n",
            "\n",
            "2018-06-10 15:04:42 (12.1 MB/s) - ‘data_road.zip’ saved [470992343/470992343]\n",
            "\n",
            "/data/data_road.zip: Scheme missing.\n",
            "FINISHED --2018-06-10 15:04:42--\n",
            "Total wall clock time: 38s\n",
            "Downloaded: 1 files, 449M in 37s (12.1 MB/s)\n"
          ],
          "name": "stdout"
        }
      ]
    },
    {
      "metadata": {
        "id": "_Mo_EWhOAGNS",
        "colab_type": "code",
        "colab": {
          "autoexec": {
            "startup": false,
            "wait_interval": 0
          },
          "base_uri": "https://localhost:8080/",
          "height": 34
        },
        "outputId": "719a41a8-3f60-4d9a-b405-9666faea589f",
        "executionInfo": {
          "status": "ok",
          "timestamp": 1528654100363,
          "user_tz": -60,
          "elapsed": 1890,
          "user": {
            "displayName": "Wendy Mak",
            "photoUrl": "//lh5.googleusercontent.com/-9PMowe0a4Nc/AAAAAAAAAAI/AAAAAAAAABI/yRmOh7V39hU/s50-c-k-no/photo.jpg",
            "userId": "110776265957727486628"
          }
        }
      },
      "cell_type": "code",
      "source": [
        "!ls data/data_road"
      ],
      "execution_count": 11,
      "outputs": [
        {
          "output_type": "stream",
          "text": [
            "testing  training\r\n"
          ],
          "name": "stdout"
        }
      ]
    },
    {
      "metadata": {
        "id": "7kOBsBsb8c3S",
        "colab_type": "code",
        "colab": {
          "autoexec": {
            "startup": false,
            "wait_interval": 0
          }
        }
      },
      "cell_type": "code",
      "source": [
        "! wget https://bin.equinox.io/c/4VmDzA7iaHb/ngrok-stable-linux-amd64.zip > /dev/null 2>&1\n",
        "! unzip ngrok-stable-linux-amd64.zip > /dev/null 2>&1"
      ],
      "execution_count": 0,
      "outputs": []
    },
    {
      "metadata": {
        "id": "HncWDjgBknpu",
        "colab_type": "code",
        "colab": {
          "autoexec": {
            "startup": false,
            "wait_interval": 0
          }
        }
      },
      "cell_type": "code",
      "source": [
        "!cd data && unzip data_road.zip  > /dev/null 2>&1"
      ],
      "execution_count": 0,
      "outputs": []
    },
    {
      "metadata": {
        "id": "HxCH1exjjzB3",
        "colab_type": "code",
        "colab": {
          "autoexec": {
            "startup": false,
            "wait_interval": 0
          }
        }
      },
      "cell_type": "code",
      "source": [
        "!pip install imageio tqdm  > /dev/null 2>&1"
      ],
      "execution_count": 0,
      "outputs": []
    },
    {
      "metadata": {
        "id": "213u1gFGj4or",
        "colab_type": "code",
        "colab": {
          "autoexec": {
            "startup": false,
            "wait_interval": 0
          }
        }
      },
      "cell_type": "code",
      "source": [
        "from google.colab import auth, files\n",
        "auth.authenticate_user()\n",
        "project_id = 'data4democracy-wwymak-explore'"
      ],
      "execution_count": 0,
      "outputs": []
    },
    {
      "metadata": {
        "id": "rIvi2_51zPCT",
        "colab_type": "code",
        "colab": {
          "autoexec": {
            "startup": false,
            "wait_interval": 0
          },
          "base_uri": "https://localhost:8080/",
          "height": 34
        },
        "outputId": "7a959f51-2173-488d-f26a-2ecd14f71bcb",
        "executionInfo": {
          "status": "ok",
          "timestamp": 1528570508602,
          "user_tz": -60,
          "elapsed": 1967,
          "user": {
            "displayName": "Wendy Mak",
            "photoUrl": "//lh5.googleusercontent.com/-9PMowe0a4Nc/AAAAAAAAAAI/AAAAAAAAABI/yRmOh7V39hU/s50-c-k-no/photo.jpg",
            "userId": "110776265957727486628"
          }
        }
      },
      "cell_type": "code",
      "source": [
        "!gcloud config set project {project_id}"
      ],
      "execution_count": 6,
      "outputs": [
        {
          "output_type": "stream",
          "text": [
            "Updated property [core/project].\r\n"
          ],
          "name": "stdout"
        }
      ]
    },
    {
      "metadata": {
        "id": "S1HVfe5n8DoW",
        "colab_type": "code",
        "colab": {
          "autoexec": {
            "startup": false,
            "wait_interval": 0
          }
        }
      },
      "cell_type": "code",
      "source": [
        "LOG_DIR = 'tensorboard_graphs'\n",
        "get_ipython().system_raw(\n",
        "    'tensorboard --logdir {} --host 0.0.0.0 --port 6006 &'\n",
        "    .format(LOG_DIR)\n",
        ")"
      ],
      "execution_count": 0,
      "outputs": []
    },
    {
      "metadata": {
        "id": "YGXzZU4I8po3",
        "colab_type": "code",
        "colab": {
          "autoexec": {
            "startup": false,
            "wait_interval": 0
          }
        }
      },
      "cell_type": "code",
      "source": [
        "get_ipython().system_raw('./ngrok http 6006 &')"
      ],
      "execution_count": 0,
      "outputs": []
    },
    {
      "metadata": {
        "id": "W-lT82rL8rEO",
        "colab_type": "code",
        "colab": {
          "autoexec": {
            "startup": false,
            "wait_interval": 0
          },
          "base_uri": "https://localhost:8080/",
          "height": 34
        },
        "outputId": "f7f61693-366b-47b2-c49c-e6883e8be012",
        "executionInfo": {
          "status": "ok",
          "timestamp": 1528654125063,
          "user_tz": -60,
          "elapsed": 2241,
          "user": {
            "displayName": "Wendy Mak",
            "photoUrl": "//lh5.googleusercontent.com/-9PMowe0a4Nc/AAAAAAAAAAI/AAAAAAAAABI/yRmOh7V39hU/s50-c-k-no/photo.jpg",
            "userId": "110776265957727486628"
          }
        }
      },
      "cell_type": "code",
      "source": [
        "! curl -s http://localhost:4040/api/tunnels | python3 -c \\\n",
        "    \"import sys, json; print(json.load(sys.stdin)['tunnels'][0]['public_url'])\""
      ],
      "execution_count": 15,
      "outputs": [
        {
          "output_type": "stream",
          "text": [
            "http://0fc8f3ef.ngrok.io\r\n"
          ],
          "name": "stdout"
        }
      ]
    },
    {
      "metadata": {
        "id": "qRlhJYHNjhk9",
        "colab_type": "code",
        "colab": {
          "autoexec": {
            "startup": false,
            "wait_interval": 0
          }
        }
      },
      "cell_type": "code",
      "source": [
        "import re\n",
        "import random\n",
        "import numpy as np\n",
        "import os.path\n",
        "import scipy.misc\n",
        "import shutil\n",
        "import zipfile\n",
        "import time\n",
        "import tensorflow as tf\n",
        "from glob import glob\n",
        "from urllib.request import urlretrieve\n",
        "from tqdm import tqdm\n",
        "\n",
        "import tensorflow as tf\n",
        "\n",
        "import sys\n",
        "from copy import deepcopy\n",
        "from unittest import mock\n",
        "\n",
        "from PIL import Image\n",
        "from skimage.transform import resize\n",
        "from imageio import imread\n",
        "\n",
        "from distutils.version import LooseVersion\n",
        "import warnings\n",
        "warnings.simplefilter(action='ignore', category=FutureWarning)\n",
        "\n"
      ],
      "execution_count": 0,
      "outputs": []
    },
    {
      "metadata": {
        "id": "GbiVOWwMn2k4",
        "colab_type": "code",
        "colab": {
          "autoexec": {
            "startup": false,
            "wait_interval": 0
          }
        }
      },
      "cell_type": "code",
      "source": [
        "# helper functions\n",
        "\n",
        "class DLProgress(tqdm):\n",
        "    last_block = 0\n",
        "\n",
        "    def hook(self, block_num=1, block_size=1, total_size=None):\n",
        "        self.total = total_size\n",
        "        self.update((block_num - self.last_block) * block_size)\n",
        "        self.last_block = block_num\n",
        "\n",
        "def safe_mkdir(path):\n",
        "    \"\"\" Create a directory if there isn't one already. \"\"\"\n",
        "    try:\n",
        "        os.mkdir(path)\n",
        "    except OSError:\n",
        "        pass\n",
        "\n",
        "def maybe_download_pretrained_vgg(data_dir):\n",
        "    \"\"\"\n",
        "    Download and extract pretrained vgg model if it doesn't exist\n",
        "    :param data_dir: Directory to download the model to\n",
        "    \"\"\"\n",
        "    vgg_filename = 'vgg.zip'\n",
        "    vgg_path = os.path.join(data_dir, 'vgg')\n",
        "    vgg_files = [\n",
        "        os.path.join(vgg_path, 'variables/variables.data-00000-of-00001'),\n",
        "        os.path.join(vgg_path, 'variables/variables.index'),\n",
        "        os.path.join(vgg_path, 'saved_model.pb')]\n",
        "\n",
        "    missing_vgg_files = [vgg_file for vgg_file in vgg_files if not os.path.exists(vgg_file)]\n",
        "    if missing_vgg_files:\n",
        "        # Clean vgg dir\n",
        "        if os.path.exists(vgg_path):\n",
        "            shutil.rmtree(vgg_path)\n",
        "        os.makedirs(vgg_path)\n",
        "\n",
        "        # Download vgg\n",
        "        print('Downloading pre-trained vgg model...')\n",
        "        with DLProgress(unit='B', unit_scale=True, miniters=1) as pbar:\n",
        "            urlretrieve(\n",
        "                'https://s3-us-west-1.amazonaws.com/udacity-selfdrivingcar/vgg.zip',\n",
        "                os.path.join(vgg_path, vgg_filename),\n",
        "                pbar.hook)\n",
        "\n",
        "        # Extract vgg\n",
        "        print('Extracting model...')\n",
        "        zip_ref = zipfile.ZipFile(os.path.join(vgg_path, vgg_filename), 'r')\n",
        "        zip_ref.extractall(data_dir)\n",
        "        zip_ref.close()\n",
        "\n",
        "        # Remove zip file to save space\n",
        "        os.remove(os.path.join(vgg_path, vgg_filename))\n",
        "\n",
        "\n",
        "def gen_batch_function(data_folder, image_shape):\n",
        "    \"\"\"\n",
        "    Generate function to create batches of training data\n",
        "    :param data_folder: Path to folder that contains all the datasets\n",
        "    :param image_shape: Tuple - Shape of image\n",
        "    :return:\n",
        "    \"\"\"\n",
        "    def get_batches_fn(batch_size):\n",
        "        \"\"\"\n",
        "        Create batches of training data\n",
        "        :param batch_size: Batch Size\n",
        "        :return: Batches of training data\n",
        "        \"\"\"\n",
        "        image_paths = glob(os.path.join(data_folder, 'image_2', '*.png'))\n",
        "        label_paths = {\n",
        "            re.sub(r'_(lane|road)_', '_', os.path.basename(path)): path\n",
        "            for path in glob(os.path.join(data_folder, 'gt_image_2', '*_road_*.png'))}\n",
        "        background_color = np.array([255, 0, 0])\n",
        "\n",
        "        random.shuffle(image_paths)\n",
        "        for batch_i in range(0, len(image_paths), batch_size):\n",
        "            images = []\n",
        "            gt_images = []\n",
        "            for image_file in image_paths[batch_i:batch_i+batch_size]:\n",
        "                gt_image_file = label_paths[os.path.basename(image_file)]\n",
        "\n",
        "                image = scipy.misc.imresize(scipy.misc.imread(image_file), image_shape)\n",
        "                gt_image = scipy.misc.imresize(scipy.misc.imread(gt_image_file), image_shape)\n",
        "\n",
        "                gt_bg = np.all(gt_image == background_color, axis=2)\n",
        "                gt_bg = gt_bg.reshape(*gt_bg.shape, 1)\n",
        "                gt_image = np.concatenate((gt_bg, np.invert(gt_bg)), axis=2)\n",
        "\n",
        "                images.append(image)\n",
        "                gt_images.append(gt_image)\n",
        "\n",
        "            yield np.array(images), np.array(gt_images)\n",
        "    return get_batches_fn\n",
        "\n",
        "\n",
        "def gen_test_output(sess, logits, keep_prob, image_pl, data_folder, image_shape):\n",
        "    \"\"\"\n",
        "    Generate test output using the test images\n",
        "    :param sess: TF session\n",
        "    :param logits: TF Tensor for the logits\n",
        "    :param keep_prob: TF Placeholder for the dropout keep robability\n",
        "    :param image_pl: TF Placeholder for the image placeholder\n",
        "    :param data_folder: Path to the folder that contains the datasets\n",
        "    :param image_shape: Tuple - Shape of image\n",
        "    :return: Output for for each test image\n",
        "    \"\"\"\n",
        "    for image_file in glob(os.path.join(data_folder, 'image_2', '*.png')):\n",
        "        image = scipy.misc.imresize(scipy.misc.imread(image_file), image_shape)\n",
        "\n",
        "        im_softmax = sess.run(\n",
        "            [tf.nn.softmax(logits)],\n",
        "            {keep_prob: 1.0, image_pl: [image]})\n",
        "        im_softmax = im_softmax[0][:, 1].reshape(image_shape[0], image_shape[1])\n",
        "        segmentation = (im_softmax > 0.5).reshape(image_shape[0], image_shape[1], 1)\n",
        "        mask = np.dot(segmentation, np.array([[0, 255, 0, 127]]))\n",
        "        mask = scipy.misc.toimage(mask, mode=\"RGBA\")\n",
        "        street_im = scipy.misc.toimage(image)\n",
        "        street_im.paste(mask, box=None, mask=mask)\n",
        "\n",
        "        yield os.path.basename(image_file), np.array(street_im)\n",
        "\n",
        "\n",
        "def save_inference_samples(runs_dir, data_dir, sess, image_shape, logits, keep_prob, input_image):\n",
        "    # Make folder for current run\n",
        "    output_dir = os.path.join(runs_dir, str(time.time()))\n",
        "    if os.path.exists(output_dir):\n",
        "        shutil.rmtree(output_dir)\n",
        "    os.makedirs(output_dir)\n",
        "\n",
        "    # Run NN on test images and save them to HD\n",
        "    print('Training Finished. Saving test images to: {}'.format(output_dir))\n",
        "    image_outputs = gen_test_output(\n",
        "        sess, logits, keep_prob, input_image, os.path.join(data_dir, 'data_road/testing'), image_shape)\n",
        "    for name, image in image_outputs:\n",
        "        scipy.misc.imsave(os.path.join(output_dir, name), image)"
      ],
      "execution_count": 0,
      "outputs": []
    },
    {
      "metadata": {
        "id": "hTUWAQynqoaT",
        "colab_type": "code",
        "colab": {
          "autoexec": {
            "startup": false,
            "wait_interval": 0
          }
        }
      },
      "cell_type": "code",
      "source": [
        "# project tests\n",
        "def test_safe(func):\n",
        "    \"\"\"\n",
        "    Isolate tests\n",
        "    \"\"\"\n",
        "    def func_wrapper(*args):\n",
        "        with tf.Graph().as_default():\n",
        "            result = func(*args)\n",
        "        print('Tests Passed')\n",
        "        return result\n",
        "\n",
        "    return func_wrapper\n",
        "\n",
        "\n",
        "def _prevent_print(function, params):\n",
        "    sys.stdout = open(os.devnull, \"w\")\n",
        "    function(**params)\n",
        "    sys.stdout = sys.__stdout__\n",
        "\n",
        "\n",
        "def _assert_tensor_shape(tensor, shape, display_name):\n",
        "    assert tf.assert_rank(tensor, len(shape), message='{} has wrong rank'.format(display_name))\n",
        "\n",
        "    tensor_shape = tensor.get_shape().as_list() if len(shape) else []\n",
        "\n",
        "    wrong_dimension = [ten_dim for ten_dim, cor_dim in zip(tensor_shape, shape)\n",
        "                       if cor_dim is not None and ten_dim != cor_dim]\n",
        "    assert not wrong_dimension, \\\n",
        "        '{} has wrong shape.  Found {}'.format(display_name, tensor_shape)\n",
        "\n",
        "\n",
        "class TmpMock(object):\n",
        "    \"\"\"\n",
        "    Mock a attribute.  Restore attribute when exiting scope.\n",
        "    \"\"\"\n",
        "    def __init__(self, module, attrib_name):\n",
        "        self.original_attrib = deepcopy(getattr(module, attrib_name))\n",
        "        setattr(module, attrib_name, mock.MagicMock())\n",
        "        self.module = module\n",
        "        self.attrib_name = attrib_name\n",
        "\n",
        "    def __enter__(self):\n",
        "        return getattr(self.module, self.attrib_name)\n",
        "\n",
        "    def __exit__(self, type, value, traceback):\n",
        "        setattr(self.module, self.attrib_name, self.original_attrib)\n",
        "\n",
        "\n",
        "@test_safe\n",
        "def test_load_vgg(load_vgg, tf_module):\n",
        "    with TmpMock(tf_module.saved_model.loader, 'load') as mock_load_model:\n",
        "        vgg_path = ''\n",
        "        sess = tf.Session()\n",
        "        test_input_image = tf.placeholder(tf.float32, name='image_input')\n",
        "        test_keep_prob = tf.placeholder(tf.float32, name='keep_prob')\n",
        "        test_vgg_layer3_out = tf.placeholder(tf.float32, name='layer3_out')\n",
        "        test_vgg_layer4_out = tf.placeholder(tf.float32, name='layer4_out')\n",
        "        test_vgg_layer7_out = tf.placeholder(tf.float32, name='layer7_out')\n",
        "\n",
        "        input_image, keep_prob, vgg_layer3_out, vgg_layer4_out, vgg_layer7_out = load_vgg(sess, vgg_path)\n",
        "\n",
        "        assert mock_load_model.called, \\\n",
        "            'tf.saved_model.loader.load() not called'\n",
        "        assert mock_load_model.call_args == mock.call(sess, ['vgg16'], vgg_path), \\\n",
        "            'tf.saved_model.loader.load() called with wrong arguments.'\n",
        "\n",
        "        assert input_image == test_input_image, 'input_image is the wrong object'\n",
        "        assert keep_prob == test_keep_prob, 'keep_prob is the wrong object'\n",
        "        assert vgg_layer3_out == test_vgg_layer3_out, 'layer3_out is the wrong object'\n",
        "        assert vgg_layer4_out == test_vgg_layer4_out, 'layer4_out is the wrong object'\n",
        "        assert vgg_layer7_out == test_vgg_layer7_out, 'layer7_out is the wrong object'\n",
        "\n",
        "\n",
        "@test_safe\n",
        "def test_layers(layers):\n",
        "    num_classes = 2\n",
        "    vgg_layer3_out = tf.placeholder(tf.float32, [None, None, None, 256])\n",
        "    vgg_layer4_out = tf.placeholder(tf.float32, [None, None, None, 512])\n",
        "    vgg_layer7_out = tf.placeholder(tf.float32, [None, None, None, 4096])\n",
        "    layers_output = layers(vgg_layer3_out, vgg_layer4_out, vgg_layer7_out, num_classes)\n",
        "\n",
        "    _assert_tensor_shape(layers_output, [None, None, None, num_classes], 'Layers Output')\n",
        "\n",
        "\n",
        "@test_safe\n",
        "def test_optimize(optimize):\n",
        "    num_classes = 2\n",
        "    shape = [2, 3, 4, num_classes]\n",
        "    layers_output = tf.Variable(tf.zeros(shape))\n",
        "    correct_label = tf.placeholder(tf.float32, [None, None, None, num_classes])\n",
        "    learning_rate = tf.placeholder(tf.float32)\n",
        "    logits, train_op, cross_entropy_loss, iou_op = optimize(layers_output, correct_label, learning_rate, num_classes)\n",
        "\n",
        "    _assert_tensor_shape(logits, [2*3*4, num_classes], 'Logits')\n",
        "\n",
        "    with tf.Session() as sess:\n",
        "        sess.run(tf.global_variables_initializer())\n",
        "        sess.run([train_op], {correct_label: np.arange(np.prod(shape)).reshape(shape), learning_rate: 10})\n",
        "        test, loss = sess.run([layers_output, cross_entropy_loss], {correct_label: np.arange(np.prod(shape)).reshape(shape)})\n",
        "\n",
        "    assert test.min() != 0 or test.max() != 0, 'Training operation not changing weights.'\n",
        "\n",
        "\n",
        "@test_safe\n",
        "def test_train_nn(train_nn):\n",
        "    epochs = 1\n",
        "    batch_size = 2\n",
        "\n",
        "    def get_batches_fn(batach_size_parm):\n",
        "        shape = [batach_size_parm, 2, 3, 3]\n",
        "        return np.arange(np.prod(shape)).reshape(shape)\n",
        "\n",
        "    train_op = tf.constant(0)\n",
        "    iou_op = tf.Variable(np.array([[1,0], [0,1]]))\n",
        "    cross_entropy_loss = tf.constant(10.11)\n",
        "    input_image = tf.placeholder(tf.float32, name='input_image')\n",
        "    correct_label = tf.placeholder(tf.float32, name='correct_label')\n",
        "    keep_prob = tf.placeholder(tf.float32, name='keep_prob')\n",
        "    learning_rate = tf.placeholder(tf.float32, name='learning_rate')\n",
        "    with tf.Session() as sess:\n",
        "        parameters = {\n",
        "            'sess': sess,\n",
        "            'epochs': epochs,\n",
        "            'batch_size': batch_size,\n",
        "            'get_batches_fn': get_batches_fn,\n",
        "            'train_op': train_op,\n",
        "            'cross_entropy_loss': cross_entropy_loss,\n",
        "            'input_image': input_image,\n",
        "            'correct_label': correct_label,\n",
        "            'keep_prob': keep_prob,\n",
        "            'learning_rate': learning_rate,\n",
        "#             'iou_op': iou_op\n",
        "        }\n",
        "        _prevent_print(train_nn, parameters)\n",
        "\n",
        "\n",
        "@test_safe\n",
        "def test_for_kitti_dataset(data_dir):\n",
        "    kitti_dataset_path = os.path.join(data_dir, 'data_road')\n",
        "    training_labels_count = len(glob(os.path.join(kitti_dataset_path, 'training/gt_image_2/*_road_*.png')))\n",
        "    training_images_count = len(glob(os.path.join(kitti_dataset_path, 'training/image_2/*.png')))\n",
        "    testing_images_count = len(glob(os.path.join(kitti_dataset_path, 'testing/image_2/*.png')))\n",
        "\n",
        "    assert not (training_images_count == training_labels_count == testing_images_count == 0),\\\n",
        "        'Kitti dataset not found. Extract Kitti dataset in {}'.format(kitti_dataset_path)\n",
        "    assert training_images_count == 289, 'Expected 289 training images, found {} images.'.format(training_images_count)\n",
        "    assert training_labels_count == 289, 'Expected 289 training labels, found {} labels.'.format(training_labels_count)\n",
        "    assert testing_images_count == 290, 'Expected 290 testing images, found {} images.'.format(testing_images_count)"
      ],
      "execution_count": 0,
      "outputs": []
    },
    {
      "metadata": {
        "id": "immiLBHkw2ci",
        "colab_type": "code",
        "colab": {
          "autoexec": {
            "startup": false,
            "wait_interval": 0
          }
        }
      },
      "cell_type": "code",
      "source": [
        "l2_weight_decay = 1e-5\n",
        "reg_const = 1e-5\n",
        "# learning_rate_val = 0.01\n",
        "learning_rate_val = 0.001\n",
        "keep_prob_val = 0.5\n",
        "num_epochs = 40\n",
        "batch_size = 8\n",
        "num_classes = 2\n",
        "image_shape = (160, 576)\n",
        "\n",
        "\n",
        "data_dir = './data'\n",
        "runs_dir = './runs'\n",
        "train_dir = './data/data_road/training'\n",
        "vgg_path = './data/vgg'\n",
        "\n",
        "freeze_vgg_top = True\n",
        "\n",
        "tf_graph_dir = 'tensorboard_graphs/fcn_lr-{}_kp-{}_batch-{}_regconst-{}_vggfrozen-{}'.format(learning_rate_val, keep_prob_val,\n",
        "                                                                                batch_size, reg_const, freeze_vgg_top)\n",
        "checkpoint_dir = 'checkpoints/fcn_lr-{}_kp-{}_batch-{}_regconst-{}_vggfrozen-{}'.format(learning_rate_val, keep_prob_val,\n",
        "                                                                                batch_size, reg_const, freeze_vgg_top)\n",
        "\n",
        "def load_vgg(sess, vgg_path, freeze_vgg_top=False):\n",
        "    \"\"\"\n",
        "    Load Pretrained VGG Model into TensorFlow.\n",
        "    :param sess: TensorFlow Session\n",
        "    :param vgg_path: Path to vgg folder, containing \"variables/\" and \"saved_model.pb\"\n",
        "    :return: Tuple of Tensors from VGG model (image_input, keep_prob, layer3_out, layer4_out, layer7_out)\n",
        "    \"\"\"\n",
        "    vgg_tag = 'vgg16'\n",
        "    vgg_input_tensor_name = 'image_input:0'\n",
        "    vgg_keep_prob_tensor_name = 'keep_prob:0'\n",
        "    vgg_layer3_out_tensor_name = 'layer3_out:0'\n",
        "    vgg_layer4_out_tensor_name = 'layer4_out:0'\n",
        "    vgg_layer7_out_tensor_name = 'layer7_out:0'\n",
        "\n",
        "    model = tf.saved_model.loader.load(\n",
        "        sess,\n",
        "        [vgg_tag],\n",
        "        vgg_path\n",
        "    )\n",
        "\n",
        "    graph = tf.get_default_graph()\n",
        "    with tf.name_scope(\"vgg_base\"):\n",
        "        image_input = graph.get_tensor_by_name(vgg_input_tensor_name)\n",
        "        keep_prob = graph.get_tensor_by_name(vgg_keep_prob_tensor_name)\n",
        "        layer3 = graph.get_tensor_by_name(vgg_layer3_out_tensor_name)\n",
        "        layer4 = graph.get_tensor_by_name(vgg_layer4_out_tensor_name)\n",
        "        layer7 = graph.get_tensor_by_name(vgg_layer7_out_tensor_name)\n",
        "    \n",
        "    \n",
        "\n",
        "    if freeze_vgg_top:\n",
        "        layer7 = tf.stop_gradient(layer7)\n",
        "        layer4 = tf.stop_gradient(layer4)\n",
        "        layer3 = tf.stop_gradient(layer3)\n",
        "\n",
        "    tf.summary.image('image', image_input)\n",
        "\n",
        "    return image_input, keep_prob, layer3, layer4, layer7\n",
        "\n",
        "# test_load_vgg(load_vgg, tf)\n",
        "\n",
        "\n",
        "\n",
        "def layers(vgg_layer3_out, vgg_layer4_out, vgg_layer7_out, num_classes):\n",
        "    \"\"\"\n",
        "    Create the layers for a fully convolutional network.  Build skip-layers using the vgg layers.\n",
        "    :param vgg_layer3_out: TF Tensor for VGG Layer 3 output\n",
        "    :param vgg_layer4_out: TF Tensor for VGG Layer 4 output\n",
        "    :param vgg_layer7_out: TF Tensor for VGG Layer 7 output\n",
        "    :param num_classes: Number of classes to classify\n",
        "    :return: The Tensor for the last layer of output\n",
        "    \"\"\"\n",
        "    with tf.name_scope(\"decoder\"):\n",
        "        layer7_conv1x1 = tf.layers.conv2d(vgg_layer7_out, num_classes,\n",
        "                                          kernel_regularizer=tf.contrib.layers.l2_regularizer(l2_weight_decay),\n",
        "                                          kernel_size=1,\n",
        "                                          strides=1,\n",
        "                                          # padding='SAME',\n",
        "                                          name=\"layer7_conv1x1\")\n",
        "\n",
        "        layer8_upsample = tf.layers.conv2d_transpose(layer7_conv1x1, vgg_layer4_out.get_shape().as_list()[-1],\n",
        "                                                     kernel_size=4,\n",
        "                                                     strides=2,\n",
        "                                                     kernel_regularizer=tf.contrib.layers.l2_regularizer(l2_weight_decay),\n",
        "                                                     padding='SAME',\n",
        "                                                     name=\"layer8_upsample\")\n",
        "\n",
        "        layer9_skip = tf.add(layer8_upsample, vgg_layer4_out, name=\"layer9_skip\")\n",
        "\n",
        "        layer10_upsample = tf.layers.conv2d_transpose(layer9_skip, vgg_layer3_out.get_shape().as_list()[-1],\n",
        "                                                     kernel_size=4,\n",
        "                                                     strides=2,\n",
        "                                                     kernel_regularizer=tf.contrib.layers.l2_regularizer(l2_weight_decay),\n",
        "                                                     padding='SAME',\n",
        "                                                     name=\"layer10_upsample\")\n",
        "        layer11_skip = tf.add(layer10_upsample, vgg_layer3_out, name=\"layer11_skip\")\n",
        "\n",
        "        layer12_conv1x1 = tf.layers.conv2d_transpose(layer11_skip, num_classes,\n",
        "                                                     kernel_size=16,\n",
        "                                                     strides=8,\n",
        "                                                     padding='SAME',\n",
        "                                                     name=\"layer12_conv1x1\")\n",
        "        tf.summary.histogram('layer7_conv1x1', layer7_conv1x1)\n",
        "        \n",
        "        tf.summary.histogram('layer7_conv1x1', layer7_conv1x1)\n",
        "        tf.summary.histogram('layer8_upsample', layer8_upsample)\n",
        "        tf.summary.histogram('layer9_skip', layer9_skip)\n",
        "        tf.summary.histogram('layer10_upsample', layer10_upsample)\n",
        "        tf.summary.histogram('layer11_skip', layer11_skip)\n",
        "        tf.summary.histogram('layer12_conv1x1', layer12_conv1x1)\n",
        "\n",
        "        return layer12_conv1x1\n",
        "\n",
        "# test_layers(layers)\n",
        "\n",
        "\n",
        "def optimize(nn_last_layer, correct_label, learning_rate, num_classes):\n",
        "    \"\"\"\n",
        "    Build the TensorFLow loss and optimizer operations.\n",
        "    :param nn_last_layer: TF Tensor of the last layer in the neural network\n",
        "    :param correct_label: TF Placeholder for the correct label image\n",
        "    :param learning_rate: TF Placeholder for the learning rate\n",
        "    :param num_classes: Number of classes to classify\n",
        "    :return: Tuple of (logits, train_op, cross_entropy_loss)\n",
        "    \"\"\"\n",
        "    logits = tf.reshape(nn_last_layer, (-1, num_classes), name='logits')\n",
        "    labels = tf.reshape(correct_label, (-1, num_classes), name='ground_truth')\n",
        "    probabilities = tf.nn.softmax(logits, name='logits_to_prediction')\n",
        "    predictions = tf.argmax(probabilities, -1)\n",
        "    print(probabilities.get_shape().as_list(), labels.get_shape().as_list(), predictions.get_shape().as_list())\n",
        "    cross_entropy_loss = tf.reduce_mean(tf.nn.softmax_cross_entropy_with_logits(logits=logits, labels=labels),\n",
        "                                        name='xent_loss')\n",
        "    regularisation_losses = tf.get_collection(tf.GraphKeys.REGULARIZATION_LOSSES)\n",
        "    regulatisation_constant = reg_const\n",
        "    \n",
        "    cross_entropy_loss = cross_entropy_loss + regulatisation_constant * sum(regularisation_losses)\n",
        "    mean_IOU, mean_IOU_update = tf.contrib.metrics.streaming_mean_iou(predictions=predictions, labels=tf.argmax(labels, -1),\n",
        "                                                                      num_classes=num_classes)\n",
        "\n",
        "    tf.summary.scalar(\"loss\", cross_entropy_loss)\n",
        "    tf.summary.scalar(\"mean_iou\", mean_IOU)\n",
        "\n",
        "    optimizer = tf.train.AdamOptimizer(learning_rate=learning_rate).minimize(cross_entropy_loss, name='train_op')\n",
        "\n",
        "    return logits, optimizer, cross_entropy_loss, mean_IOU_update\n",
        "\n",
        "\n",
        "\n",
        "# test_optimize(optimize)\n",
        "\n",
        "\n",
        "def train_nn(sess, epochs, batch_size, get_batches_fn, train_op, cross_entropy_loss, input_image,\n",
        "             correct_label, keep_prob, learning_rate):\n",
        "    \"\"\"\n",
        "    Train neural network and print out the loss during training.\n",
        "    :param sess: TF Session\n",
        "    :param epochs: Number of epochs\n",
        "    :param batch_size: Batch size\n",
        "    :param get_batches_fn: Function to get batches of training data.  Call using get_batches_fn(batch_size)\n",
        "    :param train_op: TF Operation to train the neural network\n",
        "    :param cross_entropy_loss: TF Tensor for the amount of loss\n",
        "    :param input_image: TF Placeholder for input images\n",
        "    :param correct_label: TF Placeholder for label images\n",
        "    :param keep_prob: TF Placeholder for dropout keep probability\n",
        "    :param learning_rate: TF Placeholder for learning rate\n",
        "    \"\"\"\n",
        "    \n",
        "    #saver for stashing checkpoints\n",
        "    saver = tf.train.Saver(allow_empty=True)\n",
        "\n",
        "    tfboard_summary = tf.summary.merge_all()\n",
        "    writer = tf.summary.FileWriter(tf_graph_dir, graph=sess.graph)\n",
        "    writer.add_graph(sess.graph)\n",
        "\n",
        "#     ckpt = tf.train.get_checkpoint_state(checkpoint_dir)\n",
        "#     if ckpt and ckpt.model_checkpoint_path:\n",
        "#         saver.restore(sess, ckpt.model_checkpoint_path)\n",
        "    step = 0\n",
        "    for epoch in tqdm(range(epochs)):\n",
        "\n",
        "        total_loss = 0\n",
        "        for imgs, gt_labels in get_batches_fn(batch_size):\n",
        "            # only run the summary op every 10 steps to reduce computation\n",
        "            if step % 10:\n",
        "                _, loss, summary = sess.run([train_op, cross_entropy_loss, tfboard_summary], feed_dict={\n",
        "                    input_image: imgs,\n",
        "                    correct_label: gt_labels,\n",
        "                    keep_prob: keep_prob_val,\n",
        "                    learning_rate: learning_rate_val})\n",
        "                writer.add_summary(summary, global_step=step)\n",
        "            else:\n",
        "                _, loss = sess.run([train_op, cross_entropy_loss], feed_dict={\n",
        "                    input_image: imgs,\n",
        "                    correct_label: gt_labels,\n",
        "                    keep_prob: keep_prob_val,\n",
        "                    learning_rate: learning_rate_val})\n",
        "\n",
        "            step += 1\n",
        "            total_loss += loss\n",
        "        print(\"loss: \", loss, \" step: \", step, \" epoch: \", epoch)\n",
        "        #save a checkpoint per epoch\n",
        "        saver.save(sess, checkpoint_dir, global_step=step)\n",
        "\n",
        "\n",
        "# test_train_nn(train_nn)\n",
        "\n",
        "\n",
        "def run():\n",
        "    test_for_kitti_dataset(data_dir)\n",
        "\n",
        "    safe_mkdir('checkpoints')\n",
        "    safe_mkdir('tensorboard_graphs')\n",
        "\n",
        "    # clear out the graph from previous runs\n",
        "    tf.reset_default_graph()\n",
        "\n",
        "    # Download pretrained vgg model\n",
        "    maybe_download_pretrained_vgg(data_dir)\n",
        "    # define data generator\n",
        "    get_batches_fn = gen_batch_function(train_dir, image_shape)\n",
        "\n",
        "    with tf.Session() as sess:\n",
        "        # input placeholders\n",
        "        learning_rate = tf.placeholder(tf.float32)\n",
        "        correct_label = tf.placeholder(tf.float32, shape=(None, image_shape[0], image_shape[1], num_classes))\n",
        "        keep_prob = tf.placeholder(tf.float32)\n",
        "\n",
        "\n",
        "        # loading the pretrained vgg16 backbone\n",
        "        image_input, keep_prob, layer3_out, layer4_out, layer7_out = load_vgg(sess, vgg_path, freeze_vgg_top)\n",
        "        #decoder construction\n",
        "        nn_last_layer = layers(layer3_out, layer4_out, layer7_out, num_classes)\n",
        "        # get the training op and the output\n",
        "        logits, optimizer, loss, iou_op = optimize(nn_last_layer, correct_label, learning_rate, num_classes)\n",
        "\n",
        "        # initialise variabes\n",
        "        sess.run(tf.global_variables_initializer())\n",
        "        sess.run(tf.local_variables_initializer())\n",
        "\n",
        "        # Train fcn network\n",
        "        train_nn(sess, num_epochs, batch_size, get_batches_fn,\n",
        "                 optimizer, loss, image_input,\n",
        "                 correct_label, keep_prob, learning_rate)\n",
        "\n",
        "        # OPTIONAL: Augment Images for better results\n",
        "        #  https://datascience.stackexchange.com/questions/5224/how-to-prepare-augment-images-for-neural-network\n",
        "\n",
        "        # Save inference data using helper.save_inference_samples\n",
        "        save_inference_samples(runs_dir, data_dir, sess, image_shape, logits, keep_prob, image_input)"
      ],
      "execution_count": 0,
      "outputs": []
    },
    {
      "metadata": {
        "id": "Vf0qBH2LxYs8",
        "colab_type": "code",
        "colab": {
          "autoexec": {
            "startup": false,
            "wait_interval": 0
          },
          "base_uri": "https://localhost:8080/",
          "height": 1425
        },
        "outputId": "e1d87da1-e66d-452b-8d73-eeb5b88fb6c8",
        "executionInfo": {
          "status": "error",
          "timestamp": 1528653900543,
          "user_tz": -60,
          "elapsed": 120992,
          "user": {
            "displayName": "Wendy Mak",
            "photoUrl": "//lh5.googleusercontent.com/-9PMowe0a4Nc/AAAAAAAAAAI/AAAAAAAAABI/yRmOh7V39hU/s50-c-k-no/photo.jpg",
            "userId": "110776265957727486628"
          }
        }
      },
      "cell_type": "code",
      "source": [
        "# Check TensorFlow Version\n",
        "assert LooseVersion(tf.__version__) >= LooseVersion(\n",
        "    '1.0'), 'Please use TensorFlow version 1.0 or newer.  You are using {}'.format(tf.__version__)\n",
        "print('TensorFlow Version: {}'.format(tf.__version__))\n",
        "\n",
        "# Check for a GPU\n",
        "if not tf.test.gpu_device_name():\n",
        "    warnings.warn('No GPU found. Please use a GPU to train your neural network.')\n",
        "else:\n",
        "    print('Default GPU Device: {}'.format(tf.test.gpu_device_name()))\n",
        "\n",
        "run ()"
      ],
      "execution_count": 9,
      "outputs": [
        {
          "output_type": "stream",
          "text": [
            "TensorFlow Version: 1.8.0\n",
            "Default GPU Device: /device:GPU:0\n",
            "Tests Passed\n",
            "INFO:tensorflow:Restoring parameters from b'./data/vgg/variables/variables'\n",
            "[None, 2] [None, 2] [None]\n",
            "WARNING:tensorflow:From <ipython-input-8-6c49f59b3b03>:134: softmax_cross_entropy_with_logits (from tensorflow.python.ops.nn_ops) is deprecated and will be removed in a future version.\n",
            "Instructions for updating:\n",
            "\n",
            "Future major versions of TensorFlow will allow gradients to flow\n",
            "into the labels input on backprop by default.\n",
            "\n",
            "See @{tf.nn.softmax_cross_entropy_with_logits_v2}.\n",
            "\n"
          ],
          "name": "stdout"
        },
        {
          "output_type": "stream",
          "text": [
            "\r  0%|          | 0/40 [00:00<?, ?it/s]"
          ],
          "name": "stderr"
        },
        {
          "output_type": "stream",
          "text": [
            "loss:  5.717213  step:  37  epoch:  0\n"
          ],
          "name": "stdout"
        },
        {
          "output_type": "stream",
          "text": [
            "\r  2%|▎         | 1/40 [00:51<33:15, 51.15s/it]"
          ],
          "name": "stderr"
        },
        {
          "output_type": "error",
          "ename": "KeyboardInterrupt",
          "evalue": "ignored",
          "traceback": [
            "\u001b[0;31m---------------------------------------------------------------------------\u001b[0m",
            "\u001b[0;31mKeyboardInterrupt\u001b[0m                         Traceback (most recent call last)",
            "\u001b[0;32m<ipython-input-9-fe73190b2c08>\u001b[0m in \u001b[0;36m<module>\u001b[0;34m()\u001b[0m\n\u001b[1;32m      9\u001b[0m     \u001b[0mprint\u001b[0m\u001b[0;34m(\u001b[0m\u001b[0;34m'Default GPU Device: {}'\u001b[0m\u001b[0;34m.\u001b[0m\u001b[0mformat\u001b[0m\u001b[0;34m(\u001b[0m\u001b[0mtf\u001b[0m\u001b[0;34m.\u001b[0m\u001b[0mtest\u001b[0m\u001b[0;34m.\u001b[0m\u001b[0mgpu_device_name\u001b[0m\u001b[0;34m(\u001b[0m\u001b[0;34m)\u001b[0m\u001b[0;34m)\u001b[0m\u001b[0;34m)\u001b[0m\u001b[0;34m\u001b[0m\u001b[0m\n\u001b[1;32m     10\u001b[0m \u001b[0;34m\u001b[0m\u001b[0m\n\u001b[0;32m---> 11\u001b[0;31m \u001b[0mrun\u001b[0m \u001b[0;34m(\u001b[0m\u001b[0;34m)\u001b[0m\u001b[0;34m\u001b[0m\u001b[0m\n\u001b[0m",
            "\u001b[0;32m<ipython-input-8-6c49f59b3b03>\u001b[0m in \u001b[0;36mrun\u001b[0;34m()\u001b[0m\n\u001b[1;32m    244\u001b[0m         train_nn(sess, num_epochs, batch_size, get_batches_fn,\n\u001b[1;32m    245\u001b[0m                  \u001b[0moptimizer\u001b[0m\u001b[0;34m,\u001b[0m \u001b[0mloss\u001b[0m\u001b[0;34m,\u001b[0m \u001b[0mimage_input\u001b[0m\u001b[0;34m,\u001b[0m\u001b[0;34m\u001b[0m\u001b[0m\n\u001b[0;32m--> 246\u001b[0;31m                  correct_label, keep_prob, learning_rate)\n\u001b[0m\u001b[1;32m    247\u001b[0m \u001b[0;34m\u001b[0m\u001b[0m\n\u001b[1;32m    248\u001b[0m         \u001b[0;31m# OPTIONAL: Augment Images for better results\u001b[0m\u001b[0;34m\u001b[0m\u001b[0;34m\u001b[0m\u001b[0m\n",
            "\u001b[0;32m<ipython-input-8-6c49f59b3b03>\u001b[0m in \u001b[0;36mtrain_nn\u001b[0;34m(sess, epochs, batch_size, get_batches_fn, train_op, cross_entropy_loss, input_image, correct_label, keep_prob, learning_rate)\u001b[0m\n\u001b[1;32m    190\u001b[0m                     \u001b[0mcorrect_label\u001b[0m\u001b[0;34m:\u001b[0m \u001b[0mgt_labels\u001b[0m\u001b[0;34m,\u001b[0m\u001b[0;34m\u001b[0m\u001b[0m\n\u001b[1;32m    191\u001b[0m                     \u001b[0mkeep_prob\u001b[0m\u001b[0;34m:\u001b[0m \u001b[0mkeep_prob_val\u001b[0m\u001b[0;34m,\u001b[0m\u001b[0;34m\u001b[0m\u001b[0m\n\u001b[0;32m--> 192\u001b[0;31m                     learning_rate: learning_rate_val})\n\u001b[0m\u001b[1;32m    193\u001b[0m                 \u001b[0mwriter\u001b[0m\u001b[0;34m.\u001b[0m\u001b[0madd_summary\u001b[0m\u001b[0;34m(\u001b[0m\u001b[0msummary\u001b[0m\u001b[0;34m,\u001b[0m \u001b[0mglobal_step\u001b[0m\u001b[0;34m=\u001b[0m\u001b[0mstep\u001b[0m\u001b[0;34m)\u001b[0m\u001b[0;34m\u001b[0m\u001b[0m\n\u001b[1;32m    194\u001b[0m             \u001b[0;32melse\u001b[0m\u001b[0;34m:\u001b[0m\u001b[0;34m\u001b[0m\u001b[0m\n",
            "\u001b[0;32m/usr/local/lib/python3.6/dist-packages/tensorflow/python/client/session.py\u001b[0m in \u001b[0;36mrun\u001b[0;34m(self, fetches, feed_dict, options, run_metadata)\u001b[0m\n\u001b[1;32m    898\u001b[0m     \u001b[0;32mtry\u001b[0m\u001b[0;34m:\u001b[0m\u001b[0;34m\u001b[0m\u001b[0m\n\u001b[1;32m    899\u001b[0m       result = self._run(None, fetches, feed_dict, options_ptr,\n\u001b[0;32m--> 900\u001b[0;31m                          run_metadata_ptr)\n\u001b[0m\u001b[1;32m    901\u001b[0m       \u001b[0;32mif\u001b[0m \u001b[0mrun_metadata\u001b[0m\u001b[0;34m:\u001b[0m\u001b[0;34m\u001b[0m\u001b[0m\n\u001b[1;32m    902\u001b[0m         \u001b[0mproto_data\u001b[0m \u001b[0;34m=\u001b[0m \u001b[0mtf_session\u001b[0m\u001b[0;34m.\u001b[0m\u001b[0mTF_GetBuffer\u001b[0m\u001b[0;34m(\u001b[0m\u001b[0mrun_metadata_ptr\u001b[0m\u001b[0;34m)\u001b[0m\u001b[0;34m\u001b[0m\u001b[0m\n",
            "\u001b[0;32m/usr/local/lib/python3.6/dist-packages/tensorflow/python/client/session.py\u001b[0m in \u001b[0;36m_run\u001b[0;34m(self, handle, fetches, feed_dict, options, run_metadata)\u001b[0m\n\u001b[1;32m   1133\u001b[0m     \u001b[0;32mif\u001b[0m \u001b[0mfinal_fetches\u001b[0m \u001b[0;32mor\u001b[0m \u001b[0mfinal_targets\u001b[0m \u001b[0;32mor\u001b[0m \u001b[0;34m(\u001b[0m\u001b[0mhandle\u001b[0m \u001b[0;32mand\u001b[0m \u001b[0mfeed_dict_tensor\u001b[0m\u001b[0;34m)\u001b[0m\u001b[0;34m:\u001b[0m\u001b[0;34m\u001b[0m\u001b[0m\n\u001b[1;32m   1134\u001b[0m       results = self._do_run(handle, final_targets, final_fetches,\n\u001b[0;32m-> 1135\u001b[0;31m                              feed_dict_tensor, options, run_metadata)\n\u001b[0m\u001b[1;32m   1136\u001b[0m     \u001b[0;32melse\u001b[0m\u001b[0;34m:\u001b[0m\u001b[0;34m\u001b[0m\u001b[0m\n\u001b[1;32m   1137\u001b[0m       \u001b[0mresults\u001b[0m \u001b[0;34m=\u001b[0m \u001b[0;34m[\u001b[0m\u001b[0;34m]\u001b[0m\u001b[0;34m\u001b[0m\u001b[0m\n",
            "\u001b[0;32m/usr/local/lib/python3.6/dist-packages/tensorflow/python/client/session.py\u001b[0m in \u001b[0;36m_do_run\u001b[0;34m(self, handle, target_list, fetch_list, feed_dict, options, run_metadata)\u001b[0m\n\u001b[1;32m   1314\u001b[0m     \u001b[0;32mif\u001b[0m \u001b[0mhandle\u001b[0m \u001b[0;32mis\u001b[0m \u001b[0;32mNone\u001b[0m\u001b[0;34m:\u001b[0m\u001b[0;34m\u001b[0m\u001b[0m\n\u001b[1;32m   1315\u001b[0m       return self._do_call(_run_fn, feeds, fetches, targets, options,\n\u001b[0;32m-> 1316\u001b[0;31m                            run_metadata)\n\u001b[0m\u001b[1;32m   1317\u001b[0m     \u001b[0;32melse\u001b[0m\u001b[0;34m:\u001b[0m\u001b[0;34m\u001b[0m\u001b[0m\n\u001b[1;32m   1318\u001b[0m       \u001b[0;32mreturn\u001b[0m \u001b[0mself\u001b[0m\u001b[0;34m.\u001b[0m\u001b[0m_do_call\u001b[0m\u001b[0;34m(\u001b[0m\u001b[0m_prun_fn\u001b[0m\u001b[0;34m,\u001b[0m \u001b[0mhandle\u001b[0m\u001b[0;34m,\u001b[0m \u001b[0mfeeds\u001b[0m\u001b[0;34m,\u001b[0m \u001b[0mfetches\u001b[0m\u001b[0;34m)\u001b[0m\u001b[0;34m\u001b[0m\u001b[0m\n",
            "\u001b[0;32m/usr/local/lib/python3.6/dist-packages/tensorflow/python/client/session.py\u001b[0m in \u001b[0;36m_do_call\u001b[0;34m(self, fn, *args)\u001b[0m\n\u001b[1;32m   1320\u001b[0m   \u001b[0;32mdef\u001b[0m \u001b[0m_do_call\u001b[0m\u001b[0;34m(\u001b[0m\u001b[0mself\u001b[0m\u001b[0;34m,\u001b[0m \u001b[0mfn\u001b[0m\u001b[0;34m,\u001b[0m \u001b[0;34m*\u001b[0m\u001b[0margs\u001b[0m\u001b[0;34m)\u001b[0m\u001b[0;34m:\u001b[0m\u001b[0;34m\u001b[0m\u001b[0m\n\u001b[1;32m   1321\u001b[0m     \u001b[0;32mtry\u001b[0m\u001b[0;34m:\u001b[0m\u001b[0;34m\u001b[0m\u001b[0m\n\u001b[0;32m-> 1322\u001b[0;31m       \u001b[0;32mreturn\u001b[0m \u001b[0mfn\u001b[0m\u001b[0;34m(\u001b[0m\u001b[0;34m*\u001b[0m\u001b[0margs\u001b[0m\u001b[0;34m)\u001b[0m\u001b[0;34m\u001b[0m\u001b[0m\n\u001b[0m\u001b[1;32m   1323\u001b[0m     \u001b[0;32mexcept\u001b[0m \u001b[0merrors\u001b[0m\u001b[0;34m.\u001b[0m\u001b[0mOpError\u001b[0m \u001b[0;32mas\u001b[0m \u001b[0me\u001b[0m\u001b[0;34m:\u001b[0m\u001b[0;34m\u001b[0m\u001b[0m\n\u001b[1;32m   1324\u001b[0m       \u001b[0mmessage\u001b[0m \u001b[0;34m=\u001b[0m \u001b[0mcompat\u001b[0m\u001b[0;34m.\u001b[0m\u001b[0mas_text\u001b[0m\u001b[0;34m(\u001b[0m\u001b[0me\u001b[0m\u001b[0;34m.\u001b[0m\u001b[0mmessage\u001b[0m\u001b[0;34m)\u001b[0m\u001b[0;34m\u001b[0m\u001b[0m\n",
            "\u001b[0;32m/usr/local/lib/python3.6/dist-packages/tensorflow/python/client/session.py\u001b[0m in \u001b[0;36m_run_fn\u001b[0;34m(feed_dict, fetch_list, target_list, options, run_metadata)\u001b[0m\n\u001b[1;32m   1305\u001b[0m       \u001b[0mself\u001b[0m\u001b[0;34m.\u001b[0m\u001b[0m_extend_graph\u001b[0m\u001b[0;34m(\u001b[0m\u001b[0;34m)\u001b[0m\u001b[0;34m\u001b[0m\u001b[0m\n\u001b[1;32m   1306\u001b[0m       return self._call_tf_sessionrun(\n\u001b[0;32m-> 1307\u001b[0;31m           options, feed_dict, fetch_list, target_list, run_metadata)\n\u001b[0m\u001b[1;32m   1308\u001b[0m \u001b[0;34m\u001b[0m\u001b[0m\n\u001b[1;32m   1309\u001b[0m     \u001b[0;32mdef\u001b[0m \u001b[0m_prun_fn\u001b[0m\u001b[0;34m(\u001b[0m\u001b[0mhandle\u001b[0m\u001b[0;34m,\u001b[0m \u001b[0mfeed_dict\u001b[0m\u001b[0;34m,\u001b[0m \u001b[0mfetch_list\u001b[0m\u001b[0;34m)\u001b[0m\u001b[0;34m:\u001b[0m\u001b[0;34m\u001b[0m\u001b[0m\n",
            "\u001b[0;32m/usr/local/lib/python3.6/dist-packages/tensorflow/python/client/session.py\u001b[0m in \u001b[0;36m_call_tf_sessionrun\u001b[0;34m(self, options, feed_dict, fetch_list, target_list, run_metadata)\u001b[0m\n\u001b[1;32m   1407\u001b[0m       return tf_session.TF_SessionRun_wrapper(\n\u001b[1;32m   1408\u001b[0m           \u001b[0mself\u001b[0m\u001b[0;34m.\u001b[0m\u001b[0m_session\u001b[0m\u001b[0;34m,\u001b[0m \u001b[0moptions\u001b[0m\u001b[0;34m,\u001b[0m \u001b[0mfeed_dict\u001b[0m\u001b[0;34m,\u001b[0m \u001b[0mfetch_list\u001b[0m\u001b[0;34m,\u001b[0m \u001b[0mtarget_list\u001b[0m\u001b[0;34m,\u001b[0m\u001b[0;34m\u001b[0m\u001b[0m\n\u001b[0;32m-> 1409\u001b[0;31m           run_metadata)\n\u001b[0m\u001b[1;32m   1410\u001b[0m     \u001b[0;32melse\u001b[0m\u001b[0;34m:\u001b[0m\u001b[0;34m\u001b[0m\u001b[0m\n\u001b[1;32m   1411\u001b[0m       \u001b[0;32mwith\u001b[0m \u001b[0merrors\u001b[0m\u001b[0;34m.\u001b[0m\u001b[0mraise_exception_on_not_ok_status\u001b[0m\u001b[0;34m(\u001b[0m\u001b[0;34m)\u001b[0m \u001b[0;32mas\u001b[0m \u001b[0mstatus\u001b[0m\u001b[0;34m:\u001b[0m\u001b[0;34m\u001b[0m\u001b[0m\n",
            "\u001b[0;31mKeyboardInterrupt\u001b[0m: "
          ]
        }
      ]
    },
    {
      "metadata": {
        "id": "dvwNPzkpyF4Q",
        "colab_type": "code",
        "colab": {
          "autoexec": {
            "startup": false,
            "wait_interval": 0
          },
          "base_uri": "https://localhost:8080/",
          "height": 177
        },
        "outputId": "11ac71d2-bd40-4340-bf43-9224f942e5bf",
        "executionInfo": {
          "status": "ok",
          "timestamp": 1528574013416,
          "user_tz": -60,
          "elapsed": 918,
          "user": {
            "displayName": "Wendy Mak",
            "photoUrl": "//lh5.googleusercontent.com/-9PMowe0a4Nc/AAAAAAAAAAI/AAAAAAAAABI/yRmOh7V39hU/s50-c-k-no/photo.jpg",
            "userId": "110776265957727486628"
          }
        }
      },
      "cell_type": "code",
      "source": [
        "Image.open('./runs/1528573787.86253/um_000051.png')"
      ],
      "execution_count": 17,
      "outputs": [
        {
          "output_type": "execute_result",
          "data": {
            "image/png": "[encoded data removed]",
            "text/plain": [
              "<PIL.PngImagePlugin.PngImageFile image mode=RGB size=576x160 at 0x7F27ADD3F048>"
            ]
          },
          "metadata": {
            "tags": []
          },
          "execution_count": 17
        }
      ]
    },
    {
      "metadata": {
        "id": "3rYTvlfX8qVe",
        "colab_type": "code",
        "colab": {
          "autoexec": {
            "startup": false,
            "wait_interval": 0
          }
        }
      },
      "cell_type": "code",
      "source": [
        "!gsutil -m cp -r ./runs/1528573787.86253 gs://udacity-sdcnd-misc/fcn-project-outputs/lr0001-batch8-reg1e5-frozenvgg"
      ],
      "execution_count": 0,
      "outputs": []
    },
    {
      "metadata": {
        "id": "eYJQSbYxIyRV",
        "colab_type": "code",
        "colab": {
          "autoexec": {
            "startup": false,
            "wait_interval": 0
          },
          "base_uri": "https://localhost:8080/",
          "height": 799
        },
        "outputId": "4b5591c8-9846-440c-a39c-8607a06bcb9d",
        "executionInfo": {
          "status": "ok",
          "timestamp": 1528574588817,
          "user_tz": -60,
          "elapsed": 78368,
          "user": {
            "displayName": "Wendy Mak",
            "photoUrl": "//lh5.googleusercontent.com/-9PMowe0a4Nc/AAAAAAAAAAI/AAAAAAAAABI/yRmOh7V39hU/s50-c-k-no/photo.jpg",
            "userId": "110776265957727486628"
          }
        }
      },
      "cell_type": "code",
      "source": [
        "!gsutil -m cp -r ./tensorboard_graphs/fcn gs://udacity-sdcnd-misc/fcn-project-outputs/lr0001-batch8-reg1e5-frozenvgg\n",
        "!gsutil -m cp -r ./checkpoints gs://udacity-sdcnd-misc/fcn-project-outputs/lr0001-batch8-reg1e5-frozenvgg"
      ],
      "execution_count": 22,
      "outputs": [
        {
          "output_type": "stream",
          "text": [
            "Copying file://./tensorboard_graphs/fcn/events.out.tfevents.1528571817.80dec096c2ef [Content-Type=application/octet-stream]...\r\n",
            "Copying file://./tensorboard_graphs/fcn/events.out.tfevents.1528572302.80dec096c2ef [Content-Type=application/octet-stream]...\r\n",
            "==> NOTE: You are uploading one or more large file(s), which would run\r\n",
            "significantly faster if you enable parallel composite uploads. This\r\n",
            "feature can be enabled by editing the\r\n",
            "\"parallel_composite_upload_threshold\" value in your .boto\r\n",
            "configuration file. However, note that if you do this large files will\r\n",
            "be uploaded as `composite objects\r\n",
            "<https://cloud.google.com/storage/docs/composite-objects>`_,which\r\n",
            "means that any user who downloads such objects will need to have a\r\n",
            "compiled crcmod installed (see \"gsutil help crcmod\"). This is because\r\n",
            "without a compiled crcmod, computing checksums on composite objects is\r\n",
            "so slow that gsutil disables downloads of composite objects.\r\n",
            "\n",
            "- [2/2 files][  1.0 GiB/  1.0 GiB] 100% Done  73.6 MiB/s ETA 00:00:00           \n",
            "Operation completed over 2 objects/1.0 GiB.                                      \n",
            "Copying file://./checkpoints/fcn-reg-loss-38.data-00000-of-00001 [Content-Type=application/octet-stream]...\n",
            "Copying file://./checkpoints/fcn-reg-loss-37.meta [Content-Type=application/octet-stream]...\n",
            "==> NOTE: You are uploading one or more large file(s), which would run\n",
            "significantly faster if you enable parallel composite uploads. This\n",
            "feature can be enabled by editing the\n",
            "\"parallel_composite_upload_threshold\" value in your .boto\n",
            "configuration file. However, note that if you do this large files will\n",
            "be uploaded as `composite objects\n",
            "<https://cloud.google.com/storage/docs/composite-objects>`_,which\n",
            "means that any user who downloads such objects will need to have a\n",
            "compiled crcmod installed (see \"gsutil help crcmod\"). This is because\n",
            "without a compiled crcmod, computing checksums on composite objects is\n",
            "so slow that gsutil disables downloads of composite objects.\n",
            "\n",
            "Copying file://./checkpoints/fcn-reg-loss-36.index [Content-Type=application/octet-stream]...\n",
            "Copying file://./checkpoints/fcn-reg-loss-39.meta [Content-Type=application/octet-stream]...\n",
            "Copying file://./checkpoints/fcn-reg-loss-35.index [Content-Type=application/octet-stream]...\n",
            "Copying file://./checkpoints/fcn-reg-loss-35.data-00000-of-00001 [Content-Type=application/octet-stream]...\n",
            "Copying file://./checkpoints/fcn-reg-loss-39.data-00000-of-00001 [Content-Type=application/octet-stream]...\n",
            "Copying file://./checkpoints/fcn-reg-loss-39.index [Content-Type=application/octet-stream]...\n",
            "Copying file://./checkpoints/fcn-reg-loss-35.meta [Content-Type=application/octet-stream]...\n",
            "Copying file://./checkpoints/fcn-reg-loss-37.index [Content-Type=application/octet-stream]...\n",
            "Copying file://./checkpoints/fcn-reg-loss-36.data-00000-of-00001 [Content-Type=application/octet-stream]...\n",
            "Copying file://./checkpoints/fcn-reg-loss-38.meta [Content-Type=application/octet-stream]...\n",
            "Copying file://./checkpoints/fcn-reg-loss-38.index [Content-Type=application/octet-stream]...\n",
            "Copying file://./checkpoints/checkpoint [Content-Type=application/octet-stream]...\n",
            "Copying file://./checkpoints/fcn-reg-loss-37.data-00000-of-00001 [Content-Type=application/octet-stream]...\n",
            "Copying file://./checkpoints/fcn-reg-loss-36.meta [Content-Type=application/octet-stream]...\n"
          ],
          "name": "stdout"
        },
        {
          "output_type": "stream",
          "text": [
            "\\ [16/16 files][  5.7 GiB/  5.7 GiB] 100% Done 108.4 MiB/s ETA 00:00:00         \n",
            "Operation completed over 16 objects/5.7 GiB.                                     \n"
          ],
          "name": "stdout"
        }
      ]
    },
    {
      "metadata": {
        "id": "4h-p-h8wE76g",
        "colab_type": "code",
        "colab": {
          "autoexec": {
            "startup": false,
            "wait_interval": 0
          }
        }
      },
      "cell_type": "code",
      "source": [
        "folderid = '1L26feQrmABeuxvvfxetFl5Wq5i82z7rl'\n",
        "imgs = glob('./runs/1528461774.177817/*.png')\n",
        "for idx, i in enumerate(imgs):\n",
        "  file_metadata = {\n",
        "    'name': os.path.basename(i),\n",
        "    'parents':[folderid]\n",
        "  }\n",
        "  media = MediaFileUpload(i,\n",
        "                        resumable=True)\n",
        "  created = drive_service.files().create(body=file_metadata,\n",
        "                                       media_body=media,\n",
        "                                       fields='id').execute()"
      ],
      "execution_count": 0,
      "outputs": []
    },
    {
      "metadata": {
        "id": "0s5AeT1DFoMD",
        "colab_type": "code",
        "colab": {
          "autoexec": {
            "startup": false,
            "wait_interval": 0
          }
        }
      },
      "cell_type": "code",
      "source": [
        "folderid_checkpoints = '1AfNuqwxKWY5kTu3T0M7YGPGFBPBD6bax'\n",
        "files = glob('./checkpoints/fcn-reg-loss-39.*')\n",
        "for idx, i in enumerate(files):\n",
        "  file_metadata = {\n",
        "    'name': os.path.basename(i),\n",
        "    'parents':[folderid_checkpoints]\n",
        "  }\n",
        "  media = MediaFileUpload(i,\n",
        "                        resumable=True)\n",
        "  created = drive_service.files().create(body=file_metadata,\n",
        "                                       media_body=media,\n",
        "                                       fields='id').execute()"
      ],
      "execution_count": 0,
      "outputs": []
    },
    {
      "metadata": {
        "id": "wFiK9nnVFp0x",
        "colab_type": "code",
        "colab": {
          "autoexec": {
            "startup": false,
            "wait_interval": 0
          },
          "base_uri": "https://localhost:8080/",
          "height": 153
        },
        "outputId": "39874fbb-8401-4a51-ab61-93c662a464a1",
        "executionInfo": {
          "status": "ok",
          "timestamp": 1528574301916,
          "user_tz": -60,
          "elapsed": 1846,
          "user": {
            "displayName": "Wendy Mak",
            "photoUrl": "//lh5.googleusercontent.com/-9PMowe0a4Nc/AAAAAAAAAAI/AAAAAAAAABI/yRmOh7V39hU/s50-c-k-no/photo.jpg",
            "userId": "110776265957727486628"
          }
        }
      },
      "cell_type": "code",
      "source": [
        "!ls ./checkpoints/\n"
      ],
      "execution_count": 19,
      "outputs": [
        {
          "output_type": "stream",
          "text": [
            "checkpoint\t\t\t     fcn-reg-loss-37.index\r\n",
            "fcn-reg-loss-35.data-00000-of-00001  fcn-reg-loss-37.meta\r\n",
            "fcn-reg-loss-35.index\t\t     fcn-reg-loss-38.data-00000-of-00001\r\n",
            "fcn-reg-loss-35.meta\t\t     fcn-reg-loss-38.index\r\n",
            "fcn-reg-loss-36.data-00000-of-00001  fcn-reg-loss-38.meta\r\n",
            "fcn-reg-loss-36.index\t\t     fcn-reg-loss-39.data-00000-of-00001\r\n",
            "fcn-reg-loss-36.meta\t\t     fcn-reg-loss-39.index\r\n",
            "fcn-reg-loss-37.data-00000-of-00001  fcn-reg-loss-39.meta\r\n"
          ],
          "name": "stdout"
        }
      ]
    },
    {
      "metadata": {
        "id": "xn6aSBQdFq-g",
        "colab_type": "code",
        "colab": {
          "autoexec": {
            "startup": false,
            "wait_interval": 0
          },
          "base_uri": "https://localhost:8080/",
          "height": 51
        },
        "outputId": "5cb66b49-b938-419d-bf49-908d0906ccd5",
        "executionInfo": {
          "status": "ok",
          "timestamp": 1528574360259,
          "user_tz": -60,
          "elapsed": 1757,
          "user": {
            "displayName": "Wendy Mak",
            "photoUrl": "//lh5.googleusercontent.com/-9PMowe0a4Nc/AAAAAAAAAAI/AAAAAAAAABI/yRmOh7V39hU/s50-c-k-no/photo.jpg",
            "userId": "110776265957727486628"
          }
        }
      },
      "cell_type": "code",
      "source": [
        "!ls ./tensorboard_graphs/fcn"
      ],
      "execution_count": 21,
      "outputs": [
        {
          "output_type": "stream",
          "text": [
            "events.out.tfevents.1528571817.80dec096c2ef\r\n",
            "events.out.tfevents.1528572302.80dec096c2ef\r\n"
          ],
          "name": "stdout"
        }
      ]
    },
    {
      "metadata": {
        "id": "L9JIkpFpePiI",
        "colab_type": "code",
        "colab": {
          "autoexec": {
            "startup": false,
            "wait_interval": 0
          },
          "base_uri": "https://localhost:8080/",
          "height": 34
        },
        "outputId": "e66591c1-90ae-490c-c181-b800f78e6ec0",
        "executionInfo": {
          "status": "ok",
          "timestamp": 1528575464976,
          "user_tz": -60,
          "elapsed": 1803,
          "user": {
            "displayName": "Wendy Mak",
            "photoUrl": "//lh5.googleusercontent.com/-9PMowe0a4Nc/AAAAAAAAAAI/AAAAAAAAABI/yRmOh7V39hU/s50-c-k-no/photo.jpg",
            "userId": "110776265957727486628"
          }
        }
      },
      "cell_type": "code",
      "source": [
        "!ls /tmp/tensorboard_graphs"
      ],
      "execution_count": 14,
      "outputs": [
        {
          "output_type": "stream",
          "text": [
            "ls: cannot access '/tmp/tensorboard_graphs': No such file or directory\r\n"
          ],
          "name": "stdout"
        }
      ]
    },
    {
      "metadata": {
        "id": "l8KO3W9EMo6N",
        "colab_type": "code",
        "colab": {
          "autoexec": {
            "startup": false,
            "wait_interval": 0
          },
          "base_uri": "https://localhost:8080/",
          "height": 51
        },
        "outputId": "0158b637-a9d3-4e58-f54d-ec61d5635db2",
        "executionInfo": {
          "status": "ok",
          "timestamp": 1528575470886,
          "user_tz": -60,
          "elapsed": 1638,
          "user": {
            "displayName": "Wendy Mak",
            "photoUrl": "//lh5.googleusercontent.com/-9PMowe0a4Nc/AAAAAAAAAAI/AAAAAAAAABI/yRmOh7V39hU/s50-c-k-no/photo.jpg",
            "userId": "110776265957727486628"
          }
        }
      },
      "cell_type": "code",
      "source": [
        "!ls"
      ],
      "execution_count": 15,
      "outputs": [
        {
          "output_type": "stream",
          "text": [
            "checkpoints  datalab  ngrok-stable-linux-amd64.zip    runs\r\n",
            "data\t     ngrok    ngrok-stable-linux-amd64.zip.1  tensorboard_graphs\r\n"
          ],
          "name": "stdout"
        }
      ]
    },
    {
      "metadata": {
        "id": "UeyGpKrBMqZJ",
        "colab_type": "code",
        "colab": {
          "autoexec": {
            "startup": false,
            "wait_interval": 0
          }
        }
      },
      "cell_type": "code",
      "source": [
        ""
      ],
      "execution_count": 0,
      "outputs": []
    }
  ]
}