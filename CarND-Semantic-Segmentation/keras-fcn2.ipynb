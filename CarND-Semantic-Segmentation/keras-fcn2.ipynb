{
 "cells": [
  {
   "cell_type": "code",
   "execution_count": 1,
   "metadata": {},
   "outputs": [
    {
     "name": "stderr",
     "output_type": "stream",
     "text": [
      "Using TensorFlow backend.\n"
     ]
    }
   ],
   "source": [
    "import warnings\n",
    "warnings.simplefilter(action='ignore', category=FutureWarning)\n",
    "\n",
    "import tensorflow as tf\n",
    "from keras.models import *\n",
    "from keras.layers import *\n",
    "from keras.applications.vgg16 import VGG16\n",
    "from keras.regularizers import l2\n",
    "\n",
    "from keras.applications.imagenet_utils import _obtain_input_shape\n",
    "import keras.backend as K\n",
    "from keras.optimizers import Adam, SGD\n",
    "from keras.callbacks import *\n",
    "# from keras_contrib.applications import densenet"
   ]
  },
  {
   "cell_type": "code",
   "execution_count": 2,
   "metadata": {},
   "outputs": [],
   "source": [
    "import glob\n",
    "import numpy as np\n",
    "import matplotlib.pyplot as plt\n",
    "import os\n",
    "import sys\n",
    "import re\n",
    "import scipy\n",
    "from PIL import Image\n",
    "from skimage.transform import resize\n",
    "from imageio import imread"
   ]
  },
  {
   "cell_type": "markdown",
   "metadata": {},
   "source": [
    "### Define network"
   ]
  },
  {
   "cell_type": "code",
   "execution_count": 3,
   "metadata": {},
   "outputs": [],
   "source": [
    "def fcn_vgg_8(input_shape, num_classes, weight_decay=5e-4):\n",
    "    img_input = Input(shape=input_shape)\n",
    "    x = Conv2D(64, (3, 3), activation='relu', padding='same', name='block1_conv1')(img_input)\n",
    "    x = Conv2D(64, (3, 3), activation='relu', padding='same', name='block1_conv2')(x)\n",
    "    x = MaxPooling2D((2, 2), strides=(2, 2), name='block1_pool')(x)\n",
    "\n",
    "    # Block 2\n",
    "    x = Conv2D(128, (3, 3), activation='relu', padding='same', name='block2_conv1')(x)\n",
    "    x = Conv2D(128, (3, 3), activation='relu', padding='same', name='block2_conv2')(x)\n",
    "    x = MaxPooling2D((2, 2), strides=(2, 2), name='block2_pool')(x)\n",
    "\n",
    "    # Block 3\n",
    "    x = Conv2D(256, (3, 3), activation='relu', padding='same', name='block3_conv1')(x)\n",
    "    x = Conv2D(256, (3, 3), activation='relu', padding='same', name='block3_conv2')(x)\n",
    "    x = Conv2D(256, (3, 3), activation='relu', padding='same', name='block3_conv3')(x)\n",
    "    vgg_conv3_out = MaxPooling2D((2, 2), strides=(2, 2), name='block3_pool')(x)\n",
    "\n",
    "    # Block 4\n",
    "    x = Conv2D(512, (3, 3), activation='relu', padding='same', name='block4_conv1')(vgg_conv3_out)\n",
    "    x = Conv2D(512, (3, 3), activation='relu', padding='same', name='block4_conv2')(x)\n",
    "    x = Conv2D(512, (3, 3), activation='relu', padding='same', name='block4_conv3')(x)\n",
    "    vgg_conv4_out = MaxPooling2D((2, 2), strides=(2, 2), name='block4_pool')(x)\n",
    "\n",
    "    # Block 5\n",
    "    x = Conv2D(512, (3, 3), activation='relu', padding='same', name='block5_conv1')(vgg_conv4_out)\n",
    "    x = Conv2D(512, (3, 3), activation='relu', padding='same', name='block5_conv2')(x)\n",
    "    x = Conv2D(512, (3, 3), activation='relu', padding='same', name='block5_conv3')(x)\n",
    "    vgg_conv5_out = MaxPooling2D((2, 2), strides=(2, 2), name='block5_pool')(x)\n",
    "    \n",
    "    # convert dense layers to fully conv layers\n",
    "    x = Conv2D(4096, (7, 7), activation='relu', padding='same', name='fc1', kernel_regularizer=l2(weight_decay))(vgg_conv5_out)\n",
    "    x = Dropout(0.5)(x)\n",
    "    x = Conv2D(4096, (1, 1), activation='relu', padding='same', name='fc2', kernel_regularizer=l2(weight_decay))(x)\n",
    "    x = Dropout(0.5)(x)\n",
    "    conv7_out = Conv2D(num_classes, (1, 1), activation='linear', padding='valid', strides=(1, 1), kernel_regularizer=l2(weight_decay), name='decoder_conv7')(x)   \n",
    "\n",
    "    # decoder network\n",
    "    vgg_conv4_conv1x1 = Conv2D(num_classes, (1, 1), activation='relu', padding='valid', strides=(1, 1), kernel_regularizer=l2(weight_decay),\n",
    "                              name=\"layer4_conv1x1\")(vgg_conv4_out)\n",
    "    \n",
    "    vgg_conv3_conv1x1 = Conv2D(num_classes, (1, 1), activation='relu', padding='valid', strides=(1, 1), kernel_regularizer=l2(weight_decay),\n",
    "                              name=\"layer3_conv1x1\")(vgg_conv3_out)\n",
    "    \n",
    "    upsample1 = Conv2DTranspose(num_classes, kernel_size=4, strides=(2,2), padding='same', kernel_regularizer=l2(weight_decay), name='upsample_1')(conv7_out)\n",
    "    \n",
    "    skip1 = Add()([upsample1, vgg_conv4_conv1x1])\n",
    "    upsample2 = Conv2DTranspose(num_classes, kernel_size=4, strides=(2,2), padding='same', kernel_regularizer=l2(weight_decay), name='upsample_2')(skip1)\n",
    "    \n",
    "    skip2 = Add()([upsample2, vgg_conv3_conv1x1])\n",
    "    upsample3 = Conv2DTranspose(num_classes, kernel_size=16, strides=(8,8), padding='same', kernel_regularizer=l2(weight_decay), name='upsample_3')(skip2)\n",
    "    \n",
    "    model = Model(img_input, upsample3)\n",
    "    \n",
    "    layers_list = model.layers\n",
    "    index = {}\n",
    "    \n",
    "    for layer in layers_list:\n",
    "        if layer.name:\n",
    "            index[layer.name] = layer\n",
    "            \n",
    "    vgg16 = VGG16()\n",
    "    for layer in vgg16.layers:\n",
    "        weights = layer.get_weights()\n",
    "        if layer.name=='fc1':\n",
    "            weights[0] = np.reshape(weights[0], (7,7,512,4096))\n",
    "        elif layer.name=='fc2':\n",
    "            weights[0] = np.reshape(weights[0], (1,1,4096,4096))\n",
    "        if layer.name in index:\n",
    "            index[layer.name].set_weights(weights)\n",
    "            index[layer.name].trainable = False\n",
    "            \n",
    "#     weights_path = os.path.expanduser(os.path.join('~', '.keras/models/vgg16_weights_tf_dim_ordering_tf_kernels_notop.h5'))\n",
    "#     model.load_weights(weights_path, by_name=True)\n",
    "    return model\n",
    "\n",
    "#     fcn_weights_path = os.path.expanduser(os.path.join('~', '.keras/models/fcn_vgg16_weights_tf_dim_ordering_tf_kernels.h5'))\n",
    "\n",
    "#     #transfer if weights have not been created\n",
    "#     if os.path.isfile(weights_path) == False:\n",
    "#         flattened_layers = model.layers\n",
    "#         index = {}\n",
    "#         for layer in flattened_layers:\n",
    "#             if layer.name:\n",
    "#                 index[layer.name]=layer\n",
    "#         vgg16 = VGG16()\n",
    "#         for layer in vgg16.layers:\n",
    "#             weights = layer.get_weights()\n",
    "#             if layer.name=='fc1':\n",
    "#                 weights[0] = np.reshape(weights[0], (7,7,512,4096))\n",
    "#             elif layer.name=='fc2':\n",
    "#                 weights[0] = np.reshape(weights[0], (1,1,4096,4096))\n",
    "# #             elif layer.name=='predictions':\n",
    "# #                 layer.name='predictions_1000'\n",
    "# #                 weights[0] = np.reshape(weights[0], (1,1,4096,1000))\n",
    "#             if index.has_key(layer.name):\n",
    "#                 index[layer.name].set_weights(weights)\n",
    "#         model.save_weights(weights_path)"
   ]
  },
  {
   "cell_type": "markdown",
   "metadata": {},
   "source": [
    "### Dumping some custom loss/metric functions here to see help me figure out which ones are correct to use"
   ]
  },
  {
   "cell_type": "code",
   "execution_count": 4,
   "metadata": {},
   "outputs": [],
   "source": [
    "# https://github.com/aurora95/Keras-FCN/blob/master/utils/loss_function.py\n",
    "def softmax_sparse_crossentropy_ignoring_last_label(y_true, y_pred):\n",
    "    y_pred = K.reshape(y_pred, (-1, K.int_shape(y_pred)[-1]))\n",
    "    log_softmax = tf.nn.log_softmax(y_pred)\n",
    "\n",
    "    y_true = K.one_hot(tf.to_int32(K.flatten(y_true)), K.int_shape(y_pred)[-1]+1)\n",
    "    unpacked = tf.unstack(y_true, axis=-1)\n",
    "    y_true = tf.stack(unpacked[:-1], axis=-1)\n",
    "\n",
    "    cross_entropy = -K.sum(y_true * log_softmax, axis=1)\n",
    "    cross_entropy_mean = K.mean(cross_entropy)\n",
    "\n",
    "    return cross_entropy_mean\n",
    "\n",
    "\n",
    "# Softmax cross-entropy loss function for coco segmentation\n",
    "# and models which expect but do not apply sigmoid on each entry\n",
    "# tensorlow only\n",
    "def binary_crossentropy_with_logits(ground_truth, predictions):\n",
    "    return K.mean(K.binary_crossentropy(ground_truth,\n",
    "                                        predictions,\n",
    "                                        from_logits=True),\n",
    "                  axis=-1)\n",
    "def sparse_accuracy_ignoring_last_label(y_true, y_pred):\n",
    "    nb_classes = K.int_shape(y_pred)[-1]\n",
    "    y_pred = K.reshape(y_pred, (-1, nb_classes))\n",
    "\n",
    "    y_true = K.one_hot(tf.to_int32(K.flatten(y_true)),\n",
    "                       nb_classes + 1)\n",
    "    unpacked = tf.unstack(y_true, axis=-1)\n",
    "    legal_labels = ~tf.cast(unpacked[-1], tf.bool)\n",
    "    y_true = tf.stack(unpacked[:-1], axis=-1)\n",
    "\n",
    "    return K.sum(tf.to_float(legal_labels & K.equal(K.argmax(y_true, axis=-1), K.argmax(y_pred, axis=-1)))) / K.sum(tf.to_float(legal_labels))\n"
   ]
  },
  {
   "cell_type": "code",
   "execution_count": 5,
   "metadata": {},
   "outputs": [],
   "source": [
    "def fcn_binary_crossentropy(y_true, y_pred, from_logits=False):\n",
    "    pred_shape = K.int_shape(y_pred)\n",
    "    true_shape = K.int_shape(y_true)\n",
    "    y_pred_reshaped = K.reshape(y_pred, (-1, 2))\n",
    "    y_true_reshaped = K.reshape(y_true, (-1, 2))\n",
    "\n",
    "    result = K.binary_crossentropy(y_pred_reshaped, y_true_reshaped,\n",
    "                                   from_logits=from_logits)\n",
    "    result = K.mean(result, axis=-1)\n",
    "\n",
    "    if len(true_shape) >= 3:\n",
    "        return K.reshape(result, true_shape[:-1])\n",
    "    else:\n",
    "        return result\n",
    "    \n",
    "def fcn_binary_crossentropy_with_regularisation(y_true, y_pred, from_logits=False):\n",
    "    loss1 = fcn_binary_crossentropy(y_true, y_pred, from_logits=from_logits)\n",
    "    loss2 = tf.get_collection(tf.GraphKeys.REGULARIZATION_LOSSES) + 5e-4 + K.sum(tf.get_collection(tf.GraphKeys.REGULARIZATION_LOSSES))\n",
    "    \n",
    "    return K.sum(loss1, loss2)\n",
    "\n",
    "def pixelwise_crossentropy(target, output):\n",
    "    output = tf.clip_by_value(output, 10e-8, 1. - 10e-8)\n",
    "    return - tf.reduce_sum(target * tf.log(output))\n",
    "\n",
    "\n"
   ]
  },
  {
   "cell_type": "code",
   "execution_count": 6,
   "metadata": {},
   "outputs": [],
   "source": [
    "# https://raw.githubusercontent.com/theduynguyen/Keras-FCN/master/loss_func.py\n",
    "\n",
    "def fcn_xent(y_true, y_pred):\n",
    "\ty_true_reshaped = K.flatten(y_true)\n",
    "\ty_pred_reshaped = K.flatten(y_pred)\n",
    "\n",
    "\treturn K.binary_crossentropy(y_pred_reshaped, y_true_reshaped)\n",
    "\n",
    "\n",
    "def pixel_acc(y_true, y_pred):\n",
    "\ts = K.shape(y_true)\n",
    "\n",
    "\t# reshape such that w and h dim are multiplied together\n",
    "\ty_true_reshaped = K.reshape( y_true, tf.stack( [-1, s[1]*s[2], s[-1]] ) )\n",
    "\ty_pred_reshaped = K.reshape( y_pred, tf.stack( [-1, s[1]*s[2], s[-1]] ) )\n",
    "\n",
    "\t# correctly classified\n",
    "\tclf_pred = K.one_hot( K.argmax(y_pred_reshaped),s[-1])\n",
    "\tcorrect_pixels_per_class = K.cast( K.equal(clf_pred,y_true_reshaped), dtype='float32')\n",
    "\n",
    "\treturn K.sum(correct_pixels_per_class) / K.cast(K.prod(s), dtype='float32')\n",
    "\n",
    "def mean_acc(y_true, y_pred):\n",
    "\ts = K.shape(y_true)\n",
    "\n",
    "\t# reshape such that w and h dim are multiplied together\n",
    "\ty_true_reshaped = K.reshape( y_true, tf.stack( [-1, s[1]*s[2], s[-1]] ) )\n",
    "\ty_pred_reshaped = K.reshape( y_pred, tf.stack( [-1, s[1]*s[2], s[-1]] ) )\n",
    "\n",
    "\t# correctly classified\n",
    "\tclf_pred = K.one_hot( K.argmax(y_pred_reshaped), nb_classes = s[-1])\n",
    "\tequal_entries = K.cast(K.equal(clf_pred,y_true_reshaped), dtype='float32') * y_true_reshaped\n",
    "\n",
    "\tcorrect_pixels_per_class = K.sum(equal_entries, axis=1)\n",
    "\tn_pixels_per_class = K.sum(y_true_reshaped,axis=1)\n",
    "\n",
    "\tacc = correct_pixels_per_class / n_pixels_per_class\n",
    "\tacc_mask = tf.is_finite(acc)\n",
    "\tacc_masked = tf.boolean_mask(acc,acc_mask)\n",
    "\n",
    "\treturn K.mean(acc_masked)\n",
    "\n",
    "def mean_IoU(y_true, y_pred):\n",
    "\ts = K.shape(y_true)\n",
    "\n",
    "\t# reshape such that w and h dim are multiplied together\n",
    "\ty_true_reshaped = K.reshape( y_true, tf.stack( [-1, s[1]*s[2], s[-1]] ) )\n",
    "\ty_pred_reshaped = K.reshape( y_pred, tf.stack( [-1, s[1]*s[2], s[-1]] ) )\n",
    "\n",
    "\t# correctly classified\n",
    "\tclf_pred = K.one_hot( K.argmax(y_pred_reshaped), s[-1])\n",
    "\tequal_entries = K.cast(K.equal(clf_pred,y_true_reshaped), dtype='float32') * y_true_reshaped\n",
    "\n",
    "\tintersection = K.sum(equal_entries, axis=1)\n",
    "\tunion_per_class = K.sum(y_true_reshaped,axis=1) + K.sum(y_pred_reshaped,axis=1)\n",
    "\n",
    "\tiou = intersection / (union_per_class - intersection)\n",
    "\tiou_mask = tf.is_finite(iou)\n",
    "\tiou_masked = tf.boolean_mask(iou,iou_mask)\n",
    "\n",
    "\treturn K.mean( iou_masked )"
   ]
  },
  {
   "cell_type": "code",
   "execution_count": 7,
   "metadata": {},
   "outputs": [],
   "source": [
    "lr_base = 0.01\n",
    "fcn_optimizer = SGD(lr=lr_base, momentum=0.9)\n",
    "# https://stackoverflow.com/questions/49715192/tensorflow-mean-iou-for-just-foreground-class-for-binary-semantic-segmentation/50266195#50266195\n",
    "\n",
    "def keras_mean_iou(labels, predictions):\n",
    "    \"\"\"\n",
    "    labels,prediction with shape of [batch,height,width,class_number=2]\n",
    "    \"\"\"\n",
    "    mean_iou = K.variable(0.0)\n",
    "    seen_classes = K.variable(0.0)\n",
    "    \n",
    "    print('keras mean iou')\n",
    "    print(labels.shape)\n",
    "    print(predictions.shape)\n",
    "\n",
    "    for c in range(2):\n",
    "        labels_c = K.cast(K.equal(labels, c), K.floatx())\n",
    "        pred_c = K.cast(K.equal(predictions, c), K.floatx())\n",
    "        \n",
    "        print(labels_c, pred_c, 'here')\n",
    "\n",
    "        labels_c_sum = K.sum(labels_c)\n",
    "        pred_c_sum = K.sum(pred_c)\n",
    "\n",
    "        intersect = K.sum(labels_c*pred_c)\n",
    "        union = labels_c_sum + pred_c_sum - intersect\n",
    "        iou = intersect / union\n",
    "        condition = K.equal(union, 0)\n",
    "        mean_iou = K.switch(condition,\n",
    "                            mean_iou,\n",
    "                            mean_iou+iou)\n",
    "        seen_classes = K.switch(condition,\n",
    "                                seen_classes,\n",
    "                                seen_classes+1)\n",
    "\n",
    "    mean_iou = K.switch(K.equal(seen_classes, 0),\n",
    "                        mean_iou,\n",
    "                        mean_iou/seen_classes)\n",
    "    return mean_iou"
   ]
  },
  {
   "cell_type": "markdown",
   "metadata": {},
   "source": [
    "### Getting the training/gt image paths for data generator"
   ]
  },
  {
   "cell_type": "code",
   "execution_count": 8,
   "metadata": {},
   "outputs": [],
   "source": [
    "np.random.seed(10)\n",
    "road_imgs_gt = glob.glob(os.path.join('./data', 'data_road/training', 'gt_image_2', '*_road_*.png'))\n",
    "np.random.shuffle(road_imgs_gt)"
   ]
  },
  {
   "cell_type": "code",
   "execution_count": 9,
   "metadata": {},
   "outputs": [
    {
     "data": {
      "text/plain": [
       "['./data/data_road/training/gt_image_2/uu_road_000083.png',\n",
       " './data/data_road/training/gt_image_2/uu_road_000062.png',\n",
       " './data/data_road/training/gt_image_2/umm_road_000039.png',\n",
       " './data/data_road/training/gt_image_2/um_road_000068.png',\n",
       " './data/data_road/training/gt_image_2/uu_road_000032.png',\n",
       " './data/data_road/training/gt_image_2/um_road_000045.png',\n",
       " './data/data_road/training/gt_image_2/um_road_000028.png',\n",
       " './data/data_road/training/gt_image_2/umm_road_000061.png',\n",
       " './data/data_road/training/gt_image_2/um_road_000090.png',\n",
       " './data/data_road/training/gt_image_2/umm_road_000054.png']"
      ]
     },
     "execution_count": 9,
     "metadata": {},
     "output_type": "execute_result"
    }
   ],
   "source": [
    "road_imgs_gt[:10]"
   ]
  },
  {
   "cell_type": "code",
   "execution_count": 9,
   "metadata": {},
   "outputs": [],
   "source": [
    "val_gt_arr = road_imgs_gt[:16]\n",
    "val_img_arr = [x.replace('gt_image_2', 'image_2').replace('_road_', '_').replace('_lane_', '_') for x in val_gt_arr]\n",
    "train_gt_arr = road_imgs_gt[16:]\n",
    "train_img_arr = [x.replace('gt_image_2', 'image_2').replace('_road_', '_').replace('_lane_', '_') for x in train_gt_arr]"
   ]
  },
  {
   "cell_type": "markdown",
   "metadata": {},
   "source": [
    "### Data generator"
   ]
  },
  {
   "cell_type": "code",
   "execution_count": 10,
   "metadata": {},
   "outputs": [],
   "source": [
    "def train_generator(files_list, gt_list, batch_size, image_shape):\n",
    "\n",
    "    background_color = np.array([1, 0, 0])\n",
    "    images = []\n",
    "    gt_images = []\n",
    "\n",
    "    while True:\n",
    "        for i in range(batch_size):\n",
    "            index = np.random.choice(len(files_list), replace=False)\n",
    "            image_file = files_list[index]\n",
    "            gt_file = gt_list[index]\n",
    "            gt_image = resize(imread(gt_file), image_shape)\n",
    "            \n",
    "            image = resize(imread(image_file), image_shape)\n",
    "\n",
    "            gt_bg_mask = np.all(gt_image == background_color, axis=2)\n",
    "            gt_image_bg = np.zeros(shape=(image_shape[0], image_shape[1]))\n",
    "            gt_image_fg = np.ones(shape=(image_shape[0], image_shape[1]))\n",
    "\n",
    "\n",
    "            gt_image_fg[gt_bg_mask] = 0\n",
    "            gt_image_bg[gt_bg_mask] = 1\n",
    "            \n",
    "            gt_onehot = np.stack((gt_image_fg, gt_image_bg), axis=-1)\n",
    "#             gt_onehot = np.moveaxis(gt_onehot, 0, -1)\n",
    "            \n",
    "            images.append(image)\n",
    "            gt_images.append(gt_onehot)\n",
    "\n",
    "#         yield images, gt_onehot\n",
    "        yield np.array(images), np.array(gt_images)"
   ]
  },
  {
   "cell_type": "code",
   "execution_count": 35,
   "metadata": {},
   "outputs": [],
   "source": [
    "def run(img_shape=(160, 576, 3), batch_size=4, epochs = 2,steps_per_epoch=10, lr=0.001):\n",
    "    K.clear_session()\n",
    "    \n",
    "    tensorboardCB = TensorBoard(log_dir=os.path.join('tensorboard_graphs', 'fcn-keras'), write_graph=True)\n",
    "    checkpointCB = ModelCheckpoint('checkpoints/fcn.-run2-epoch{epoch:02d}.h5', monitor=pixelwise_crossentropy, save_weights_only=False, mode='max', period=3)\n",
    "    callbacks = [tensorboardCB, checkpointCB]\n",
    "    \n",
    "    IMAGE_SHAPE=img_shape\n",
    "#     IMAGE_SHAPE=(160, 576, 3)\n",
    "    batch_size = batch_size\n",
    "    steps_per_epoch = steps_per_epoch #np.round(len(train_img_arr)/ batch_size)\n",
    "    t_generator = train_generator(train_img_arr, train_gt_arr, batch_size, IMAGE_SHAPE)\n",
    "    val_generator = train_generator(val_img_arr, val_gt_arr, batch_size, IMAGE_SHAPE)\n",
    "    model_fcn = fcn_vgg_8(IMAGE_SHAPE, 2, weight_decay=5e-4)\n",
    "    # freeze layers from vgg for now\n",
    "    for idx, layer in enumerate(model_fcn.layers):\n",
    "        if idx < 17:\n",
    "            layer.trainable = False\n",
    "    model_fcn.summary()\n",
    "#     model_fcn.compile(loss=binary_crossentropy_with_logits,\n",
    "#                   optimizer=Adam(),\n",
    "#                   metrics=[pixelwise_crossentropy]\n",
    "#                      )\n",
    "    \n",
    "    model_fcn.compile(loss=binary_crossentropy_with_logits,\n",
    "                  optimizer=Adam(lr = lr),\n",
    "#                   metrics=[pixelwise_crossentropy]\n",
    "                     )\n",
    "    \n",
    "    history = model_fcn.fit_generator(t_generator, epochs = epochs, steps_per_epoch=steps_per_epoch,\n",
    "                       validation_data = val_generator, validation_steps = 1, \n",
    "                            callbacks=callbacks)\n",
    "    \n",
    "    return model_fcn, history"
   ]
  },
  {
   "cell_type": "code",
   "execution_count": 36,
   "metadata": {},
   "outputs": [
    {
     "name": "stdout",
     "output_type": "stream",
     "text": [
      "__________________________________________________________________________________________________\n",
      "Layer (type)                    Output Shape         Param #     Connected to                     \n",
      "==================================================================================================\n",
      "input_1 (InputLayer)            (None, 64, 64, 3)    0                                            \n",
      "__________________________________________________________________________________________________\n",
      "block1_conv1 (Conv2D)           (None, 64, 64, 64)   1792        input_1[0][0]                    \n",
      "__________________________________________________________________________________________________\n",
      "block1_conv2 (Conv2D)           (None, 64, 64, 64)   36928       block1_conv1[0][0]               \n",
      "__________________________________________________________________________________________________\n",
      "block1_pool (MaxPooling2D)      (None, 32, 32, 64)   0           block1_conv2[0][0]               \n",
      "__________________________________________________________________________________________________\n",
      "block2_conv1 (Conv2D)           (None, 32, 32, 128)  73856       block1_pool[0][0]                \n",
      "__________________________________________________________________________________________________\n",
      "block2_conv2 (Conv2D)           (None, 32, 32, 128)  147584      block2_conv1[0][0]               \n",
      "__________________________________________________________________________________________________\n",
      "block2_pool (MaxPooling2D)      (None, 16, 16, 128)  0           block2_conv2[0][0]               \n",
      "__________________________________________________________________________________________________\n",
      "block3_conv1 (Conv2D)           (None, 16, 16, 256)  295168      block2_pool[0][0]                \n",
      "__________________________________________________________________________________________________\n",
      "block3_conv2 (Conv2D)           (None, 16, 16, 256)  590080      block3_conv1[0][0]               \n",
      "__________________________________________________________________________________________________\n",
      "block3_conv3 (Conv2D)           (None, 16, 16, 256)  590080      block3_conv2[0][0]               \n",
      "__________________________________________________________________________________________________\n",
      "block3_pool (MaxPooling2D)      (None, 8, 8, 256)    0           block3_conv3[0][0]               \n",
      "__________________________________________________________________________________________________\n",
      "block4_conv1 (Conv2D)           (None, 8, 8, 512)    1180160     block3_pool[0][0]                \n",
      "__________________________________________________________________________________________________\n",
      "block4_conv2 (Conv2D)           (None, 8, 8, 512)    2359808     block4_conv1[0][0]               \n",
      "__________________________________________________________________________________________________\n",
      "block4_conv3 (Conv2D)           (None, 8, 8, 512)    2359808     block4_conv2[0][0]               \n",
      "__________________________________________________________________________________________________\n",
      "block4_pool (MaxPooling2D)      (None, 4, 4, 512)    0           block4_conv3[0][0]               \n",
      "__________________________________________________________________________________________________\n",
      "block5_conv1 (Conv2D)           (None, 4, 4, 512)    2359808     block4_pool[0][0]                \n",
      "__________________________________________________________________________________________________\n",
      "block5_conv2 (Conv2D)           (None, 4, 4, 512)    2359808     block5_conv1[0][0]               \n",
      "__________________________________________________________________________________________________\n",
      "block5_conv3 (Conv2D)           (None, 4, 4, 512)    2359808     block5_conv2[0][0]               \n",
      "__________________________________________________________________________________________________\n",
      "block5_pool (MaxPooling2D)      (None, 2, 2, 512)    0           block5_conv3[0][0]               \n",
      "__________________________________________________________________________________________________\n",
      "fc1 (Conv2D)                    (None, 2, 2, 4096)   102764544   block5_pool[0][0]                \n",
      "__________________________________________________________________________________________________\n",
      "dropout_1 (Dropout)             (None, 2, 2, 4096)   0           fc1[0][0]                        \n",
      "__________________________________________________________________________________________________\n",
      "fc2 (Conv2D)                    (None, 2, 2, 4096)   16781312    dropout_1[0][0]                  \n",
      "__________________________________________________________________________________________________\n",
      "dropout_2 (Dropout)             (None, 2, 2, 4096)   0           fc2[0][0]                        \n",
      "__________________________________________________________________________________________________\n",
      "decoder_conv7 (Conv2D)          (None, 2, 2, 2)      8194        dropout_2[0][0]                  \n",
      "__________________________________________________________________________________________________\n",
      "upsample_1 (Conv2DTranspose)    (None, 4, 4, 2)      66          decoder_conv7[0][0]              \n",
      "__________________________________________________________________________________________________\n",
      "layer4_conv1x1 (Conv2D)         (None, 4, 4, 2)      1026        block4_pool[0][0]                \n",
      "__________________________________________________________________________________________________\n",
      "add_1 (Add)                     (None, 4, 4, 2)      0           upsample_1[0][0]                 \n",
      "                                                                 layer4_conv1x1[0][0]             \n",
      "__________________________________________________________________________________________________\n",
      "upsample_2 (Conv2DTranspose)    (None, 8, 8, 2)      66          add_1[0][0]                      \n",
      "__________________________________________________________________________________________________\n",
      "layer3_conv1x1 (Conv2D)         (None, 8, 8, 2)      514         block3_pool[0][0]                \n",
      "__________________________________________________________________________________________________\n",
      "add_2 (Add)                     (None, 8, 8, 2)      0           upsample_2[0][0]                 \n",
      "                                                                 layer3_conv1x1[0][0]             \n",
      "__________________________________________________________________________________________________\n",
      "upsample_3 (Conv2DTranspose)    (None, 64, 64, 2)    1026        add_2[0][0]                      \n",
      "==================================================================================================\n",
      "Total params: 134,271,436\n",
      "Trainable params: 10,892\n",
      "Non-trainable params: 134,260,544\n",
      "__________________________________________________________________________________________________\n",
      "Epoch 1/5\n"
     ]
    },
    {
     "name": "stderr",
     "output_type": "stream",
     "text": [
      "/home/ubuntu/anaconda3/envs/tensorflow_p36/lib/python3.6/site-packages/skimage/transform/_warps.py:84: UserWarning: The default mode, 'constant', will be changed to 'reflect' in skimage 0.15.\n",
      "  warn(\"The default mode, 'constant', will be changed to 'reflect' in \"\n"
     ]
    },
    {
     "name": "stdout",
     "output_type": "stream",
     "text": [
      "136/136 [==============================] - 43s 319ms/step - loss: 0.7985 - val_loss: 0.6101\n",
      "Epoch 2/5\n",
      "136/136 [==============================] - 93s 681ms/step - loss: 0.6049 - val_loss: 0.6113\n",
      "Epoch 3/5\n",
      "136/136 [==============================] - 144s 1s/step - loss: 0.5839 - val_loss: 0.5990\n",
      "Epoch 4/5\n",
      "136/136 [==============================] - 993s 7s/step - loss: 0.5712 - val_loss: 0.5776\n",
      "Epoch 5/5\n",
      "136/136 [==============================] - 1434s 11s/step - loss: 0.5631 - val_loss: 0.5748\n"
     ]
    }
   ],
   "source": [
    "model, history = run((64,64,3), batch_size=2, epochs=5, steps_per_epoch=len(train_img_arr)//2)"
   ]
  },
  {
   "cell_type": "code",
   "execution_count": 26,
   "metadata": {},
   "outputs": [],
   "source": [
    "K.clear_session()\n",
    "model = load_model('checkpoints/fcn.epoch02.h5', custom_objects={'pixelwise_crossentropy': pixelwise_crossentropy})"
   ]
  },
  {
   "cell_type": "code",
   "execution_count": 37,
   "metadata": {},
   "outputs": [],
   "source": [
    "test_imgs = glob.glob(os.path.join('./data', 'data_road/testing', 'image_2', '*.png'))"
   ]
  },
  {
   "cell_type": "code",
   "execution_count": 38,
   "metadata": {},
   "outputs": [
    {
     "data": {
      "text/plain": [
       "['./data/data_road/testing/image_2/um_000040.png',\n",
       " './data/data_road/testing/image_2/uu_000025.png',\n",
       " './data/data_road/testing/image_2/uu_000049.png',\n",
       " './data/data_road/testing/image_2/um_000085.png',\n",
       " './data/data_road/testing/image_2/umm_000054.png',\n",
       " './data/data_road/testing/image_2/umm_000057.png',\n",
       " './data/data_road/testing/image_2/um_000029.png',\n",
       " './data/data_road/testing/image_2/um_000022.png',\n",
       " './data/data_road/testing/image_2/um_000032.png',\n",
       " './data/data_road/testing/image_2/umm_000037.png']"
      ]
     },
     "execution_count": 38,
     "metadata": {},
     "output_type": "execute_result"
    }
   ],
   "source": [
    "test_imgs[:10]"
   ]
  },
  {
   "cell_type": "code",
   "execution_count": 39,
   "metadata": {},
   "outputs": [
    {
     "name": "stderr",
     "output_type": "stream",
     "text": [
      "/home/ubuntu/anaconda3/envs/tensorflow_p36/lib/python3.6/site-packages/skimage/transform/_warps.py:84: UserWarning: The default mode, 'constant', will be changed to 'reflect' in skimage 0.15.\n",
      "  warn(\"The default mode, 'constant', will be changed to 'reflect' in \"\n"
     ]
    }
   ],
   "source": [
    "image = resize(imread(test_imgs[10]), (64,64,3))\n",
    "out = model.predict(np.array([image]))\n",
    "# im_softmax = sess.run(\n",
    "#     [tf.nn.softmax(logits)],\n",
    "#     {keep_prob: 1.0, image_pl: [image]})\n",
    "# im_softmax = im_softmax[0][:, 1].reshape(image_shape[0], image_shape[1])\n",
    "# segmentation = (im_softmax > 0.5).reshape(image_shape[0], image_shape[1], 1)\n",
    "# mask = np.dot(segmentation, np.array([[0, 255, 0, 127]]))\n",
    "# mask = scipy.misc.toimage(mask, mode=\"RGBA\")\n",
    "# street_im = scipy.misc.toimage(image)\n",
    "# street_im.paste(mask, box=None, mask=mask)"
   ]
  },
  {
   "cell_type": "code",
   "execution_count": 40,
   "metadata": {},
   "outputs": [],
   "source": [
    "out= np.squeeze(out)"
   ]
  },
  {
   "cell_type": "code",
   "execution_count": 41,
   "metadata": {},
   "outputs": [
    {
     "data": {
      "text/plain": [
       "<matplotlib.image.AxesImage at 0x7f1f89539e80>"
      ]
     },
     "execution_count": 41,
     "metadata": {},
     "output_type": "execute_result"
    },
    {
     "data": {
      "image/png": "[encoded data removed]",
      "text/plain": [
       "<Figure size 432x288 with 1 Axes>"
      ]
     },
     "metadata": {},
     "output_type": "display_data"
    }
   ],
   "source": [
    "plt.imshow(image)"
   ]
  },
  {
   "cell_type": "code",
   "execution_count": 42,
   "metadata": {},
   "outputs": [],
   "source": [
    "res = np.argmax(out, axis=-1).astype(np.uint8)"
   ]
  },
  {
   "cell_type": "code",
   "execution_count": 43,
   "metadata": {},
   "outputs": [
    {
     "data": {
      "text/plain": [
       "<matplotlib.image.AxesImage at 0x7f1f8973b160>"
      ]
     },
     "execution_count": 43,
     "metadata": {},
     "output_type": "execute_result"
    },
    {
     "data": {
      "image/png": "[encoded data removed]",
      "text/plain": [
       "<Figure size 432x288 with 1 Axes>"
      ]
     },
     "metadata": {},
     "output_type": "display_data"
    }
   ],
   "source": [
    "plt.imshow(res)"
   ]
  },
  {
   "cell_type": "code",
   "execution_count": 82,
   "metadata": {},
   "outputs": [
    {
     "data": {
      "text/plain": [
       "0"
      ]
     },
     "execution_count": 82,
     "metadata": {},
     "output_type": "execute_result"
    }
   ],
   "source": [
    "np.max(res)"
   ]
  },
  {
   "cell_type": "code",
   "execution_count": null,
   "metadata": {},
   "outputs": [],
   "source": [
    "# contineu training a bit\n",
    "tensorboardCB = TensorBoard(log_dir=os.path.join('tensorboard_graphs', 'fcn-keras/run2'), write_graph=True)\n",
    "checkpointCB = ModelCheckpoint('checkpoints/fcn.-run2-epoch{epoch:02d}.h5', monitor=pixelwise_crossentropy, save_weights_only=False, mode='max', period=3)\n",
    "callbacks = [tensorboardCB, checkpointCB]"
   ]
  }
 ],
 "metadata": {
  "kernelspec": {
   "display_name": "Python 3",
   "language": "python",
   "name": "python3"
  },
  "language_info": {
   "codemirror_mode": {
    "name": "ipython",
    "version": 3
   },
   "file_extension": ".py",
   "mimetype": "text/x-python",
   "name": "python",
   "nbconvert_exporter": "python",
   "pygments_lexer": "ipython3",
   "version": "3.6.4"
  }
 },
 "nbformat": 4,
 "nbformat_minor": 2
}
