{
 "cells": [
  {
   "cell_type": "markdown",
   "metadata": {},
   "source": [
    "### Visualisations of the output from the Unscented Kalman Filter on the dataset from the project and how it predicts the position of the vehicle"
   ]
  },
  {
   "cell_type": "code",
   "execution_count": 1,
   "metadata": {},
   "outputs": [],
   "source": [
    "import numpy as np\n",
    "import pandas as pd\n",
    "from bokeh.plotting import figure, output_file, show, output_notebook\n",
    "from bokeh.models import HoverTool, BoxZoomTool, ResetTool\n",
    "from bokeh.palettes import Spectral6\n",
    "from bokeh.io import export_png"
   ]
  },
  {
   "cell_type": "markdown",
   "metadata": {},
   "source": [
    "##### bokeh plotting options"
   ]
  },
  {
   "cell_type": "code",
   "execution_count": 2,
   "metadata": {},
   "outputs": [
    {
     "data": {
      "text/html": [
       "\n",
       "    <div class=\"bk-root\">\n",
       "        <a href=\"https://bokeh.pydata.org\" target=\"_blank\" class=\"bk-logo bk-logo-small bk-logo-notebook\"></a>\n",
       "        <span id=\"0c465198-009b-4e12-b9b0-868963476fe8\">Loading BokehJS ...</span>\n",
       "    </div>"
      ]
     },
     "metadata": {},
     "output_type": "display_data"
    },
    {
     "data": {
      "application/javascript": [
       "\n",
       "(function(root) {\n",
       "  function now() {\n",
       "    return new Date();\n",
       "  }\n",
       "\n",
       "  var force = true;\n",
       "\n",
       "  if (typeof (root._bokeh_onload_callbacks) === \"undefined\" || force === true) {\n",
       "    root._bokeh_onload_callbacks = [];\n",
       "    root._bokeh_is_loading = undefined;\n",
       "  }\n",
       "\n",
       "  var JS_MIME_TYPE = 'application/javascript';\n",
       "  var HTML_MIME_TYPE = 'text/html';\n",
       "  var EXEC_MIME_TYPE = 'application/vnd.bokehjs_exec.v0+json';\n",
       "  var CLASS_NAME = 'output_bokeh rendered_html';\n",
       "\n",
       "  /**\n",
       "   * Render data to the DOM node\n",
       "   */\n",
       "  function render(props, node) {\n",
       "    var script = document.createElement(\"script\");\n",
       "    node.appendChild(script);\n",
       "  }\n",
       "\n",
       "  /**\n",
       "   * Handle when an output is cleared or removed\n",
       "   */\n",
       "  function handleClearOutput(event, handle) {\n",
       "    var cell = handle.cell;\n",
       "\n",
       "    var id = cell.output_area._bokeh_element_id;\n",
       "    var server_id = cell.output_area._bokeh_server_id;\n",
       "    // Clean up Bokeh references\n",
       "    if (id !== undefined) {\n",
       "      Bokeh.index[id].model.document.clear();\n",
       "      delete Bokeh.index[id];\n",
       "    }\n",
       "\n",
       "    if (server_id !== undefined) {\n",
       "      // Clean up Bokeh references\n",
       "      var cmd = \"from bokeh.io.state import curstate; print(curstate().uuid_to_server['\" + server_id + \"'].get_sessions()[0].document.roots[0]._id)\";\n",
       "      cell.notebook.kernel.execute(cmd, {\n",
       "        iopub: {\n",
       "          output: function(msg) {\n",
       "            var element_id = msg.content.text.trim();\n",
       "            Bokeh.index[element_id].model.document.clear();\n",
       "            delete Bokeh.index[element_id];\n",
       "          }\n",
       "        }\n",
       "      });\n",
       "      // Destroy server and session\n",
       "      var cmd = \"import bokeh.io.notebook as ion; ion.destroy_server('\" + server_id + \"')\";\n",
       "      cell.notebook.kernel.execute(cmd);\n",
       "    }\n",
       "  }\n",
       "\n",
       "  /**\n",
       "   * Handle when a new output is added\n",
       "   */\n",
       "  function handleAddOutput(event, handle) {\n",
       "    var output_area = handle.output_area;\n",
       "    var output = handle.output;\n",
       "\n",
       "    // limit handleAddOutput to display_data with EXEC_MIME_TYPE content only\n",
       "    if ((output.output_type != \"display_data\") || (!output.data.hasOwnProperty(EXEC_MIME_TYPE))) {\n",
       "      return\n",
       "    }\n",
       "\n",
       "    var toinsert = output_area.element.find(\".\" + CLASS_NAME.split(' ')[0]);\n",
       "\n",
       "    if (output.metadata[EXEC_MIME_TYPE][\"id\"] !== undefined) {\n",
       "      toinsert[0].firstChild.textContent = output.data[JS_MIME_TYPE];\n",
       "      // store reference to embed id on output_area\n",
       "      output_area._bokeh_element_id = output.metadata[EXEC_MIME_TYPE][\"id\"];\n",
       "    }\n",
       "    if (output.metadata[EXEC_MIME_TYPE][\"server_id\"] !== undefined) {\n",
       "      var bk_div = document.createElement(\"div\");\n",
       "      bk_div.innerHTML = output.data[HTML_MIME_TYPE];\n",
       "      var script_attrs = bk_div.children[0].attributes;\n",
       "      for (var i = 0; i < script_attrs.length; i++) {\n",
       "        toinsert[0].firstChild.setAttribute(script_attrs[i].name, script_attrs[i].value);\n",
       "      }\n",
       "      // store reference to server id on output_area\n",
       "      output_area._bokeh_server_id = output.metadata[EXEC_MIME_TYPE][\"server_id\"];\n",
       "    }\n",
       "  }\n",
       "\n",
       "  function register_renderer(events, OutputArea) {\n",
       "\n",
       "    function append_mime(data, metadata, element) {\n",
       "      // create a DOM node to render to\n",
       "      var toinsert = this.create_output_subarea(\n",
       "        metadata,\n",
       "        CLASS_NAME,\n",
       "        EXEC_MIME_TYPE\n",
       "      );\n",
       "      this.keyboard_manager.register_events(toinsert);\n",
       "      // Render to node\n",
       "      var props = {data: data, metadata: metadata[EXEC_MIME_TYPE]};\n",
       "      render(props, toinsert[0]);\n",
       "      element.append(toinsert);\n",
       "      return toinsert\n",
       "    }\n",
       "\n",
       "    /* Handle when an output is cleared or removed */\n",
       "    events.on('clear_output.CodeCell', handleClearOutput);\n",
       "    events.on('delete.Cell', handleClearOutput);\n",
       "\n",
       "    /* Handle when a new output is added */\n",
       "    events.on('output_added.OutputArea', handleAddOutput);\n",
       "\n",
       "    /**\n",
       "     * Register the mime type and append_mime function with output_area\n",
       "     */\n",
       "    OutputArea.prototype.register_mime_type(EXEC_MIME_TYPE, append_mime, {\n",
       "      /* Is output safe? */\n",
       "      safe: true,\n",
       "      /* Index of renderer in `output_area.display_order` */\n",
       "      index: 0\n",
       "    });\n",
       "  }\n",
       "\n",
       "  // register the mime type if in Jupyter Notebook environment and previously unregistered\n",
       "  if (root.Jupyter !== undefined) {\n",
       "    var events = require('base/js/events');\n",
       "    var OutputArea = require('notebook/js/outputarea').OutputArea;\n",
       "\n",
       "    if (OutputArea.prototype.mime_types().indexOf(EXEC_MIME_TYPE) == -1) {\n",
       "      register_renderer(events, OutputArea);\n",
       "    }\n",
       "  }\n",
       "\n",
       "  \n",
       "  if (typeof (root._bokeh_timeout) === \"undefined\" || force === true) {\n",
       "    root._bokeh_timeout = Date.now() + 5000;\n",
       "    root._bokeh_failed_load = false;\n",
       "  }\n",
       "\n",
       "  var NB_LOAD_WARNING = {'data': {'text/html':\n",
       "     \"<div style='background-color: #fdd'>\\n\"+\n",
       "     \"<p>\\n\"+\n",
       "     \"BokehJS does not appear to have successfully loaded. If loading BokehJS from CDN, this \\n\"+\n",
       "     \"may be due to a slow or bad network connection. Possible fixes:\\n\"+\n",
       "     \"</p>\\n\"+\n",
       "     \"<ul>\\n\"+\n",
       "     \"<li>re-rerun `output_notebook()` to attempt to load from CDN again, or</li>\\n\"+\n",
       "     \"<li>use INLINE resources instead, as so:</li>\\n\"+\n",
       "     \"</ul>\\n\"+\n",
       "     \"<code>\\n\"+\n",
       "     \"from bokeh.resources import INLINE\\n\"+\n",
       "     \"output_notebook(resources=INLINE)\\n\"+\n",
       "     \"</code>\\n\"+\n",
       "     \"</div>\"}};\n",
       "\n",
       "  function display_loaded() {\n",
       "    var el = document.getElementById(\"0c465198-009b-4e12-b9b0-868963476fe8\");\n",
       "    if (el != null) {\n",
       "      el.textContent = \"BokehJS is loading...\";\n",
       "    }\n",
       "    if (root.Bokeh !== undefined) {\n",
       "      if (el != null) {\n",
       "        el.textContent = \"BokehJS \" + root.Bokeh.version + \" successfully loaded.\";\n",
       "      }\n",
       "    } else if (Date.now() < root._bokeh_timeout) {\n",
       "      setTimeout(display_loaded, 100)\n",
       "    }\n",
       "  }\n",
       "\n",
       "\n",
       "  function run_callbacks() {\n",
       "    try {\n",
       "      root._bokeh_onload_callbacks.forEach(function(callback) { callback() });\n",
       "    }\n",
       "    finally {\n",
       "      delete root._bokeh_onload_callbacks\n",
       "    }\n",
       "    console.info(\"Bokeh: all callbacks have finished\");\n",
       "  }\n",
       "\n",
       "  function load_libs(js_urls, callback) {\n",
       "    root._bokeh_onload_callbacks.push(callback);\n",
       "    if (root._bokeh_is_loading > 0) {\n",
       "      console.log(\"Bokeh: BokehJS is being loaded, scheduling callback at\", now());\n",
       "      return null;\n",
       "    }\n",
       "    if (js_urls == null || js_urls.length === 0) {\n",
       "      run_callbacks();\n",
       "      return null;\n",
       "    }\n",
       "    console.log(\"Bokeh: BokehJS not loaded, scheduling load and callback at\", now());\n",
       "    root._bokeh_is_loading = js_urls.length;\n",
       "    for (var i = 0; i < js_urls.length; i++) {\n",
       "      var url = js_urls[i];\n",
       "      var s = document.createElement('script');\n",
       "      s.src = url;\n",
       "      s.async = false;\n",
       "      s.onreadystatechange = s.onload = function() {\n",
       "        root._bokeh_is_loading--;\n",
       "        if (root._bokeh_is_loading === 0) {\n",
       "          console.log(\"Bokeh: all BokehJS libraries loaded\");\n",
       "          run_callbacks()\n",
       "        }\n",
       "      };\n",
       "      s.onerror = function() {\n",
       "        console.warn(\"failed to load library \" + url);\n",
       "      };\n",
       "      console.log(\"Bokeh: injecting script tag for BokehJS library: \", url);\n",
       "      document.getElementsByTagName(\"head\")[0].appendChild(s);\n",
       "    }\n",
       "  };var element = document.getElementById(\"0c465198-009b-4e12-b9b0-868963476fe8\");\n",
       "  if (element == null) {\n",
       "    console.log(\"Bokeh: ERROR: autoload.js configured with elementid '0c465198-009b-4e12-b9b0-868963476fe8' but no matching script tag was found. \")\n",
       "    return false;\n",
       "  }\n",
       "\n",
       "  var js_urls = [\"https://cdn.pydata.org/bokeh/release/bokeh-0.12.13.min.js\", \"https://cdn.pydata.org/bokeh/release/bokeh-widgets-0.12.13.min.js\", \"https://cdn.pydata.org/bokeh/release/bokeh-tables-0.12.13.min.js\", \"https://cdn.pydata.org/bokeh/release/bokeh-gl-0.12.13.min.js\"];\n",
       "\n",
       "  var inline_js = [\n",
       "    function(Bokeh) {\n",
       "      Bokeh.set_log_level(\"info\");\n",
       "    },\n",
       "    \n",
       "    function(Bokeh) {\n",
       "      \n",
       "    },\n",
       "    function(Bokeh) {\n",
       "      console.log(\"Bokeh: injecting CSS: https://cdn.pydata.org/bokeh/release/bokeh-0.12.13.min.css\");\n",
       "      Bokeh.embed.inject_css(\"https://cdn.pydata.org/bokeh/release/bokeh-0.12.13.min.css\");\n",
       "      console.log(\"Bokeh: injecting CSS: https://cdn.pydata.org/bokeh/release/bokeh-widgets-0.12.13.min.css\");\n",
       "      Bokeh.embed.inject_css(\"https://cdn.pydata.org/bokeh/release/bokeh-widgets-0.12.13.min.css\");\n",
       "      console.log(\"Bokeh: injecting CSS: https://cdn.pydata.org/bokeh/release/bokeh-tables-0.12.13.min.css\");\n",
       "      Bokeh.embed.inject_css(\"https://cdn.pydata.org/bokeh/release/bokeh-tables-0.12.13.min.css\");\n",
       "    }\n",
       "  ];\n",
       "\n",
       "  function run_inline_js() {\n",
       "    \n",
       "    if ((root.Bokeh !== undefined) || (force === true)) {\n",
       "      for (var i = 0; i < inline_js.length; i++) {\n",
       "        inline_js[i].call(root, root.Bokeh);\n",
       "      }if (force === true) {\n",
       "        display_loaded();\n",
       "      }} else if (Date.now() < root._bokeh_timeout) {\n",
       "      setTimeout(run_inline_js, 100);\n",
       "    } else if (!root._bokeh_failed_load) {\n",
       "      console.log(\"Bokeh: BokehJS failed to load within specified timeout.\");\n",
       "      root._bokeh_failed_load = true;\n",
       "    } else if (force !== true) {\n",
       "      var cell = $(document.getElementById(\"0c465198-009b-4e12-b9b0-868963476fe8\")).parents('.cell').data().cell;\n",
       "      cell.output_area.append_execute_result(NB_LOAD_WARNING)\n",
       "    }\n",
       "\n",
       "  }\n",
       "\n",
       "  if (root._bokeh_is_loading === 0) {\n",
       "    console.log(\"Bokeh: BokehJS loaded, going straight to plotting\");\n",
       "    run_inline_js();\n",
       "  } else {\n",
       "    load_libs(js_urls, function() {\n",
       "      console.log(\"Bokeh: BokehJS plotting callback run at\", now());\n",
       "      run_inline_js();\n",
       "    });\n",
       "  }\n",
       "}(window));"
      ],
      "application/vnd.bokehjs_load.v0+json": "\n(function(root) {\n  function now() {\n    return new Date();\n  }\n\n  var force = true;\n\n  if (typeof (root._bokeh_onload_callbacks) === \"undefined\" || force === true) {\n    root._bokeh_onload_callbacks = [];\n    root._bokeh_is_loading = undefined;\n  }\n\n  \n\n  \n  if (typeof (root._bokeh_timeout) === \"undefined\" || force === true) {\n    root._bokeh_timeout = Date.now() + 5000;\n    root._bokeh_failed_load = false;\n  }\n\n  var NB_LOAD_WARNING = {'data': {'text/html':\n     \"<div style='background-color: #fdd'>\\n\"+\n     \"<p>\\n\"+\n     \"BokehJS does not appear to have successfully loaded. If loading BokehJS from CDN, this \\n\"+\n     \"may be due to a slow or bad network connection. Possible fixes:\\n\"+\n     \"</p>\\n\"+\n     \"<ul>\\n\"+\n     \"<li>re-rerun `output_notebook()` to attempt to load from CDN again, or</li>\\n\"+\n     \"<li>use INLINE resources instead, as so:</li>\\n\"+\n     \"</ul>\\n\"+\n     \"<code>\\n\"+\n     \"from bokeh.resources import INLINE\\n\"+\n     \"output_notebook(resources=INLINE)\\n\"+\n     \"</code>\\n\"+\n     \"</div>\"}};\n\n  function display_loaded() {\n    var el = document.getElementById(\"0c465198-009b-4e12-b9b0-868963476fe8\");\n    if (el != null) {\n      el.textContent = \"BokehJS is loading...\";\n    }\n    if (root.Bokeh !== undefined) {\n      if (el != null) {\n        el.textContent = \"BokehJS \" + root.Bokeh.version + \" successfully loaded.\";\n      }\n    } else if (Date.now() < root._bokeh_timeout) {\n      setTimeout(display_loaded, 100)\n    }\n  }\n\n\n  function run_callbacks() {\n    try {\n      root._bokeh_onload_callbacks.forEach(function(callback) { callback() });\n    }\n    finally {\n      delete root._bokeh_onload_callbacks\n    }\n    console.info(\"Bokeh: all callbacks have finished\");\n  }\n\n  function load_libs(js_urls, callback) {\n    root._bokeh_onload_callbacks.push(callback);\n    if (root._bokeh_is_loading > 0) {\n      console.log(\"Bokeh: BokehJS is being loaded, scheduling callback at\", now());\n      return null;\n    }\n    if (js_urls == null || js_urls.length === 0) {\n      run_callbacks();\n      return null;\n    }\n    console.log(\"Bokeh: BokehJS not loaded, scheduling load and callback at\", now());\n    root._bokeh_is_loading = js_urls.length;\n    for (var i = 0; i < js_urls.length; i++) {\n      var url = js_urls[i];\n      var s = document.createElement('script');\n      s.src = url;\n      s.async = false;\n      s.onreadystatechange = s.onload = function() {\n        root._bokeh_is_loading--;\n        if (root._bokeh_is_loading === 0) {\n          console.log(\"Bokeh: all BokehJS libraries loaded\");\n          run_callbacks()\n        }\n      };\n      s.onerror = function() {\n        console.warn(\"failed to load library \" + url);\n      };\n      console.log(\"Bokeh: injecting script tag for BokehJS library: \", url);\n      document.getElementsByTagName(\"head\")[0].appendChild(s);\n    }\n  };var element = document.getElementById(\"0c465198-009b-4e12-b9b0-868963476fe8\");\n  if (element == null) {\n    console.log(\"Bokeh: ERROR: autoload.js configured with elementid '0c465198-009b-4e12-b9b0-868963476fe8' but no matching script tag was found. \")\n    return false;\n  }\n\n  var js_urls = [\"https://cdn.pydata.org/bokeh/release/bokeh-0.12.13.min.js\", \"https://cdn.pydata.org/bokeh/release/bokeh-widgets-0.12.13.min.js\", \"https://cdn.pydata.org/bokeh/release/bokeh-tables-0.12.13.min.js\", \"https://cdn.pydata.org/bokeh/release/bokeh-gl-0.12.13.min.js\"];\n\n  var inline_js = [\n    function(Bokeh) {\n      Bokeh.set_log_level(\"info\");\n    },\n    \n    function(Bokeh) {\n      \n    },\n    function(Bokeh) {\n      console.log(\"Bokeh: injecting CSS: https://cdn.pydata.org/bokeh/release/bokeh-0.12.13.min.css\");\n      Bokeh.embed.inject_css(\"https://cdn.pydata.org/bokeh/release/bokeh-0.12.13.min.css\");\n      console.log(\"Bokeh: injecting CSS: https://cdn.pydata.org/bokeh/release/bokeh-widgets-0.12.13.min.css\");\n      Bokeh.embed.inject_css(\"https://cdn.pydata.org/bokeh/release/bokeh-widgets-0.12.13.min.css\");\n      console.log(\"Bokeh: injecting CSS: https://cdn.pydata.org/bokeh/release/bokeh-tables-0.12.13.min.css\");\n      Bokeh.embed.inject_css(\"https://cdn.pydata.org/bokeh/release/bokeh-tables-0.12.13.min.css\");\n    }\n  ];\n\n  function run_inline_js() {\n    \n    if ((root.Bokeh !== undefined) || (force === true)) {\n      for (var i = 0; i < inline_js.length; i++) {\n        inline_js[i].call(root, root.Bokeh);\n      }if (force === true) {\n        display_loaded();\n      }} else if (Date.now() < root._bokeh_timeout) {\n      setTimeout(run_inline_js, 100);\n    } else if (!root._bokeh_failed_load) {\n      console.log(\"Bokeh: BokehJS failed to load within specified timeout.\");\n      root._bokeh_failed_load = true;\n    } else if (force !== true) {\n      var cell = $(document.getElementById(\"0c465198-009b-4e12-b9b0-868963476fe8\")).parents('.cell').data().cell;\n      cell.output_area.append_execute_result(NB_LOAD_WARNING)\n    }\n\n  }\n\n  if (root._bokeh_is_loading === 0) {\n    console.log(\"Bokeh: BokehJS loaded, going straight to plotting\");\n    run_inline_js();\n  } else {\n    load_libs(js_urls, function() {\n      console.log(\"Bokeh: BokehJS plotting callback run at\", now());\n      run_inline_js();\n    });\n  }\n}(window));"
     },
     "metadata": {},
     "output_type": "display_data"
    }
   ],
   "source": [
    "output_notebook()"
   ]
  },
  {
   "cell_type": "markdown",
   "metadata": {},
   "source": [
    "##### Read in measurement/prediction data"
   ]
  },
  {
   "cell_type": "code",
   "execution_count": 3,
   "metadata": {},
   "outputs": [],
   "source": [
    "data_both = pd.read_csv('./ukf_outputs.csv')\n",
    "data_radar = pd.read_csv('./ukf_outputs_radaronly.csv')\n",
    "data_laser = pd.read_csv('./ukf_outputs_laseronly.csv')"
   ]
  },
  {
   "cell_type": "markdown",
   "metadata": {},
   "source": [
    "### Ground truth vs predicted values over the track of the bicycle\n",
    "\n",
    "These plots illustrate what the RMSE values are telling us -- using both sensors together is more accurate. Also, if you compare the same plots from the Extended Kalman Filter(http://nbviewer.jupyter.org/github/wwymak/udacity-selfdrivingcar-nd/blob/master/CarND-Extended-Kalman-Filter-Project/EKF-output-vis.ipynb) you can see that the radar espcially is a lot more accurate using the Unscented Kalman Filter"
   ]
  },
  {
   "cell_type": "code",
   "execution_count": 9,
   "metadata": {},
   "outputs": [],
   "source": [
    "def plot_gt_vs_pred(df):\n",
    "    hover = HoverTool(tooltips=[\n",
    "    (\"(x,y)\", \"($x, $y)\")])\n",
    "    p = figure(plot_width=800, plot_height=400, tools=[hover, BoxZoomTool(), ResetTool()],\n",
    "           title =\"bicycle positions vs predicted positions\")\n",
    "\n",
    "\n",
    "    p.circle(df[\"x_gt\"], df[\"y_gt\"], size=3, color='navy', legend='ground truth')\n",
    "    p.square(df[\"p_x\"], df[\"p_y\"], size=3, color='firebrick', legend= 'predicted')\n",
    "    p.legend.location = \"top_left\"\n",
    "    p.legend.click_policy=\"hide\"\n",
    "    show(p)"
   ]
  },
  {
   "cell_type": "markdown",
   "metadata": {},
   "source": [
    "##### using both sensors"
   ]
  },
  {
   "cell_type": "code",
   "execution_count": 10,
   "metadata": {},
   "outputs": [
    {
     "data": {
      "text/html": [
       "\n",
       "<div class=\"bk-root\">\n",
       "    <div class=\"bk-plotdiv\" id=\"ec181ff5-e46a-46d0-a210-4d87615fd1db\"></div>\n",
       "</div>"
      ]
     },
     "metadata": {},
     "output_type": "display_data"
    },
    {
     "data": {
      "application/javascript": [
       "(function(root) {\n",
       "  function embed_document(root) {\n",
       "    \n",
       "  var docs_json = {\"1e3976c6-23d9-49bc-8e60-0ceb0ac38a51\":{\"roots\":{\"references\":[{\"attributes\":{\"click_policy\":\"hide\",\"items\":[{\"id\":\"73b069d0-5ef1-41ae-9a75-cfcc17510b4e\",\"type\":\"LegendItem\"},{\"id\":\"7c5d3f32-ec9f-4ee2-a6e0-2a2337396c2c\",\"type\":\"LegendItem\"}],\"location\":\"top_left\",\"plot\":{\"id\":\"c5bb7c45-5aed-4d21-ba47-c0f8e2a442f2\",\"subtype\":\"Figure\",\"type\":\"Plot\"}},\"id\":\"b76c7acb-172f-404e-9a2b-29730edadbb7\",\"type\":\"Legend\"},{\"attributes\":{},\"id\":\"a3479829-6123-4fca-872a-a44689962ac4\",\"type\":\"BasicTicker\"},{\"attributes\":{\"plot\":{\"id\":\"c5bb7c45-5aed-4d21-ba47-c0f8e2a442f2\",\"subtype\":\"Figure\",\"type\":\"Plot\"},\"ticker\":{\"id\":\"a3479829-6123-4fca-872a-a44689962ac4\",\"type\":\"BasicTicker\"}},\"id\":\"31a07fb7-cb27-4959-9ed2-2be3b2126963\",\"type\":\"Grid\"},{\"attributes\":{\"formatter\":{\"id\":\"48f69e58-102a-4bb2-a43d-8269fe382b27\",\"type\":\"BasicTickFormatter\"},\"plot\":{\"id\":\"c5bb7c45-5aed-4d21-ba47-c0f8e2a442f2\",\"subtype\":\"Figure\",\"type\":\"Plot\"},\"ticker\":{\"id\":\"0fddfb57-91f1-48ba-bf76-9544280216b7\",\"type\":\"BasicTicker\"}},\"id\":\"6f97014f-057a-4032-b07a-b01fd91c2819\",\"type\":\"LinearAxis\"},{\"attributes\":{},\"id\":\"0fddfb57-91f1-48ba-bf76-9544280216b7\",\"type\":\"BasicTicker\"},{\"attributes\":{},\"id\":\"48f69e58-102a-4bb2-a43d-8269fe382b27\",\"type\":\"BasicTickFormatter\"},{\"attributes\":{\"active_drag\":\"auto\",\"active_inspect\":\"auto\",\"active_scroll\":\"auto\",\"active_tap\":\"auto\",\"tools\":[{\"id\":\"12ceb2cd-611a-4ec4-aa39-a72f53b9c14a\",\"type\":\"HoverTool\"},{\"id\":\"ca77bb41-f0d1-4a5f-802c-0ceaf53dfa28\",\"type\":\"BoxZoomTool\"},{\"id\":\"561d3fe3-b49e-41f5-a9b1-d2309da6f99a\",\"type\":\"ResetTool\"}]},\"id\":\"bf3788c6-21fa-4576-99d4-598c163793df\",\"type\":\"Toolbar\"},{\"attributes\":{},\"id\":\"c4650f94-fcf1-4ed6-bccd-35969f04568d\",\"type\":\"BasicTickFormatter\"},{\"attributes\":{\"formatter\":{\"id\":\"c4650f94-fcf1-4ed6-bccd-35969f04568d\",\"type\":\"BasicTickFormatter\"},\"plot\":{\"id\":\"c5bb7c45-5aed-4d21-ba47-c0f8e2a442f2\",\"subtype\":\"Figure\",\"type\":\"Plot\"},\"ticker\":{\"id\":\"a3479829-6123-4fca-872a-a44689962ac4\",\"type\":\"BasicTicker\"}},\"id\":\"e5ad04ec-68d1-4ed2-8d11-c6f52de51a71\",\"type\":\"LinearAxis\"},{\"attributes\":{\"overlay\":{\"id\":\"b7a73bdc-d818-4c73-b664-06c35665e85d\",\"type\":\"BoxAnnotation\"}},\"id\":\"ca77bb41-f0d1-4a5f-802c-0ceaf53dfa28\",\"type\":\"BoxZoomTool\"},{\"attributes\":{\"source\":{\"id\":\"4bab79e8-4abe-46a8-aada-d9b3ec513c5d\",\"type\":\"ColumnDataSource\"}},\"id\":\"b91bdd69-9b8d-4e2b-8b4f-e7a87e75d971\",\"type\":\"CDSView\"},{\"attributes\":{\"label\":{\"value\":\"ground truth\"},\"renderers\":[{\"id\":\"2d5f5cae-a5ce-4091-b7da-8d266fde4a97\",\"type\":\"GlyphRenderer\"}]},\"id\":\"73b069d0-5ef1-41ae-9a75-cfcc17510b4e\",\"type\":\"LegendItem\"},{\"attributes\":{\"plot\":null,\"text\":\"bicycle positions vs predicted positions\"},\"id\":\"f72a2243-2173-4c50-b680-7c73c68fe63b\",\"type\":\"Title\"},{\"attributes\":{\"fill_color\":{\"value\":\"firebrick\"},\"line_color\":{\"value\":\"firebrick\"},\"size\":{\"units\":\"screen\",\"value\":3},\"x\":{\"field\":\"x\"},\"y\":{\"field\":\"y\"}},\"id\":\"d3c7241b-da88-4e42-9622-67a9ec4e4248\",\"type\":\"Square\"},{\"attributes\":{},\"id\":\"561d3fe3-b49e-41f5-a9b1-d2309da6f99a\",\"type\":\"ResetTool\"},{\"attributes\":{\"fill_alpha\":{\"value\":0.1},\"fill_color\":{\"value\":\"#1f77b4\"},\"line_alpha\":{\"value\":0.1},\"line_color\":{\"value\":\"#1f77b4\"},\"size\":{\"units\":\"screen\",\"value\":3},\"x\":{\"field\":\"x\"},\"y\":{\"field\":\"y\"}},\"id\":\"7edc4c48-aeab-465e-b009-3df00848dbc0\",\"type\":\"Circle\"},{\"attributes\":{\"data_source\":{\"id\":\"4bab79e8-4abe-46a8-aada-d9b3ec513c5d\",\"type\":\"ColumnDataSource\"},\"glyph\":{\"id\":\"d3c7241b-da88-4e42-9622-67a9ec4e4248\",\"type\":\"Square\"},\"hover_glyph\":null,\"muted_glyph\":null,\"nonselection_glyph\":{\"id\":\"62a06064-544a-4e7a-a71b-55b43334ff3c\",\"type\":\"Square\"},\"selection_glyph\":null,\"view\":{\"id\":\"b91bdd69-9b8d-4e2b-8b4f-e7a87e75d971\",\"type\":\"CDSView\"}},\"id\":\"92aae3e3-8b3a-4326-b373-377542daa461\",\"type\":\"GlyphRenderer\"},{\"attributes\":{\"callback\":null},\"id\":\"0caae635-02a8-427a-8bad-c82dd961f43c\",\"type\":\"DataRange1d\"},{\"attributes\":{\"callback\":null},\"id\":\"1ba70b4a-08c0-4ecc-b8e4-635131919d4c\",\"type\":\"DataRange1d\"},{\"attributes\":{\"label\":{\"value\":\"predicted\"},\"renderers\":[{\"id\":\"92aae3e3-8b3a-4326-b373-377542daa461\",\"type\":\"GlyphRenderer\"}]},\"id\":\"7c5d3f32-ec9f-4ee2-a6e0-2a2337396c2c\",\"type\":\"LegendItem\"},{\"attributes\":{},\"id\":\"a5e3862a-ebac-46a1-be31-d0e49b42f6d4\",\"type\":\"LinearScale\"},{\"attributes\":{},\"id\":\"2c7dc8b1-f9d1-40e5-ad5c-bb707715767a\",\"type\":\"LinearScale\"},{\"attributes\":{\"data_source\":{\"id\":\"40dca26e-def0-4e8e-945f-fa371f269809\",\"type\":\"ColumnDataSource\"},\"glyph\":{\"id\":\"5d6e7b5a-cfe0-4021-8f62-09dded9ef28c\",\"type\":\"Circle\"},\"hover_glyph\":null,\"muted_glyph\":null,\"nonselection_glyph\":{\"id\":\"7edc4c48-aeab-465e-b009-3df00848dbc0\",\"type\":\"Circle\"},\"selection_glyph\":null,\"view\":{\"id\":\"005011a1-ae04-4d29-9104-9331ca866bb2\",\"type\":\"CDSView\"}},\"id\":\"2d5f5cae-a5ce-4091-b7da-8d266fde4a97\",\"type\":\"GlyphRenderer\"},{\"attributes\":{\"callback\":null,\"column_names\":[\"x\",\"y\"],\"data\":{\"x\":{\"__ndarray__\":\"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\",\"dtype\":\"float64\",\"shape\":[499]},\"y\":{\"__ndarray__\":\"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\",\"dtype\":\"float64\",\"shape\":[499]}}},\"id\":\"40dca26e-def0-4e8e-945f-fa371f269809\",\"type\":\"ColumnDataSource\"},{\"attributes\":{\"source\":{\"id\":\"40dca26e-def0-4e8e-945f-fa371f269809\",\"type\":\"ColumnDataSource\"}},\"id\":\"005011a1-ae04-4d29-9104-9331ca866bb2\",\"type\":\"CDSView\"},{\"attributes\":{\"callback\":null,\"tooltips\":[[\"(x,y)\",\"($x, $y)\"]]},\"id\":\"12ceb2cd-611a-4ec4-aa39-a72f53b9c14a\",\"type\":\"HoverTool\"},{\"attributes\":{\"callback\":null,\"column_names\":[\"x\",\"y\"],\"data\":{\"x\":{\"__ndarray__\":\"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\",\"dtype\":\"float64\",\"shape\":[499]},\"y\":{\"__ndarray__\":\"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\",\"dtype\":\"float64\",\"shape\":[499]}}},\"id\":\"4bab79e8-4abe-46a8-aada-d9b3ec513c5d\",\"type\":\"ColumnDataSource\"},{\"attributes\":{\"bottom_units\":\"screen\",\"fill_alpha\":{\"value\":0.5},\"fill_color\":{\"value\":\"lightgrey\"},\"left_units\":\"screen\",\"level\":\"overlay\",\"line_alpha\":{\"value\":1.0},\"line_color\":{\"value\":\"black\"},\"line_dash\":[4,4],\"line_width\":{\"value\":2},\"plot\":null,\"render_mode\":\"css\",\"right_units\":\"screen\",\"top_units\":\"screen\"},\"id\":\"b7a73bdc-d818-4c73-b664-06c35665e85d\",\"type\":\"BoxAnnotation\"},{\"attributes\":{\"fill_alpha\":{\"value\":0.1},\"fill_color\":{\"value\":\"#1f77b4\"},\"line_alpha\":{\"value\":0.1},\"line_color\":{\"value\":\"#1f77b4\"},\"size\":{\"units\":\"screen\",\"value\":3},\"x\":{\"field\":\"x\"},\"y\":{\"field\":\"y\"}},\"id\":\"62a06064-544a-4e7a-a71b-55b43334ff3c\",\"type\":\"Square\"},{\"attributes\":{\"dimension\":1,\"plot\":{\"id\":\"c5bb7c45-5aed-4d21-ba47-c0f8e2a442f2\",\"subtype\":\"Figure\",\"type\":\"Plot\"},\"ticker\":{\"id\":\"0fddfb57-91f1-48ba-bf76-9544280216b7\",\"type\":\"BasicTicker\"}},\"id\":\"375824f5-ce09-43c6-b84f-20565e2e5a12\",\"type\":\"Grid\"},{\"attributes\":{\"below\":[{\"id\":\"e5ad04ec-68d1-4ed2-8d11-c6f52de51a71\",\"type\":\"LinearAxis\"}],\"left\":[{\"id\":\"6f97014f-057a-4032-b07a-b01fd91c2819\",\"type\":\"LinearAxis\"}],\"plot_height\":400,\"plot_width\":800,\"renderers\":[{\"id\":\"e5ad04ec-68d1-4ed2-8d11-c6f52de51a71\",\"type\":\"LinearAxis\"},{\"id\":\"31a07fb7-cb27-4959-9ed2-2be3b2126963\",\"type\":\"Grid\"},{\"id\":\"6f97014f-057a-4032-b07a-b01fd91c2819\",\"type\":\"LinearAxis\"},{\"id\":\"375824f5-ce09-43c6-b84f-20565e2e5a12\",\"type\":\"Grid\"},{\"id\":\"b7a73bdc-d818-4c73-b664-06c35665e85d\",\"type\":\"BoxAnnotation\"},{\"id\":\"b76c7acb-172f-404e-9a2b-29730edadbb7\",\"type\":\"Legend\"},{\"id\":\"2d5f5cae-a5ce-4091-b7da-8d266fde4a97\",\"type\":\"GlyphRenderer\"},{\"id\":\"92aae3e3-8b3a-4326-b373-377542daa461\",\"type\":\"GlyphRenderer\"}],\"title\":{\"id\":\"f72a2243-2173-4c50-b680-7c73c68fe63b\",\"type\":\"Title\"},\"toolbar\":{\"id\":\"bf3788c6-21fa-4576-99d4-598c163793df\",\"type\":\"Toolbar\"},\"x_range\":{\"id\":\"1ba70b4a-08c0-4ecc-b8e4-635131919d4c\",\"type\":\"DataRange1d\"},\"x_scale\":{\"id\":\"a5e3862a-ebac-46a1-be31-d0e49b42f6d4\",\"type\":\"LinearScale\"},\"y_range\":{\"id\":\"0caae635-02a8-427a-8bad-c82dd961f43c\",\"type\":\"DataRange1d\"},\"y_scale\":{\"id\":\"2c7dc8b1-f9d1-40e5-ad5c-bb707715767a\",\"type\":\"LinearScale\"}},\"id\":\"c5bb7c45-5aed-4d21-ba47-c0f8e2a442f2\",\"subtype\":\"Figure\",\"type\":\"Plot\"},{\"attributes\":{\"fill_color\":{\"value\":\"navy\"},\"line_color\":{\"value\":\"navy\"},\"size\":{\"units\":\"screen\",\"value\":3},\"x\":{\"field\":\"x\"},\"y\":{\"field\":\"y\"}},\"id\":\"5d6e7b5a-cfe0-4021-8f62-09dded9ef28c\",\"type\":\"Circle\"}],\"root_ids\":[\"c5bb7c45-5aed-4d21-ba47-c0f8e2a442f2\"]},\"title\":\"Bokeh Application\",\"version\":\"0.12.13\"}};\n",
       "  var render_items = [{\"docid\":\"1e3976c6-23d9-49bc-8e60-0ceb0ac38a51\",\"elementid\":\"ec181ff5-e46a-46d0-a210-4d87615fd1db\",\"modelid\":\"c5bb7c45-5aed-4d21-ba47-c0f8e2a442f2\"}];\n",
       "  root.Bokeh.embed.embed_items_notebook(docs_json, render_items);\n",
       "\n",
       "  }\n",
       "  if (root.Bokeh !== undefined) {\n",
       "    embed_document(root);\n",
       "  } else {\n",
       "    var attempts = 0;\n",
       "    var timer = setInterval(function(root) {\n",
       "      if (root.Bokeh !== undefined) {\n",
       "        embed_document(root);\n",
       "        clearInterval(timer);\n",
       "      }\n",
       "      attempts++;\n",
       "      if (attempts > 100) {\n",
       "        console.log(\"Bokeh: ERROR: Unable to run BokehJS code because BokehJS library is missing\")\n",
       "        clearInterval(timer);\n",
       "      }\n",
       "    }, 10, root)\n",
       "  }\n",
       "})(window);"
      ],
      "application/vnd.bokehjs_exec.v0+json": ""
     },
     "metadata": {
      "application/vnd.bokehjs_exec.v0+json": {
       "id": "c5bb7c45-5aed-4d21-ba47-c0f8e2a442f2"
      }
     },
     "output_type": "display_data"
    }
   ],
   "source": [
    "plot_gt_vs_pred(data_both)"
   ]
  },
  {
   "cell_type": "markdown",
   "metadata": {},
   "source": [
    "##### radar only"
   ]
  },
  {
   "cell_type": "code",
   "execution_count": 11,
   "metadata": {},
   "outputs": [
    {
     "data": {
      "text/html": [
       "\n",
       "<div class=\"bk-root\">\n",
       "    <div class=\"bk-plotdiv\" id=\"03b3d295-139f-454d-b364-620d2bdebfc4\"></div>\n",
       "</div>"
      ]
     },
     "metadata": {},
     "output_type": "display_data"
    },
    {
     "data": {
      "application/javascript": [
       "(function(root) {\n",
       "  function embed_document(root) {\n",
       "    \n",
       "  var docs_json = {\"5b1502f5-92c3-4549-aa54-49af47ca6c90\":{\"roots\":{\"references\":[{\"attributes\":{\"click_policy\":\"hide\",\"items\":[{\"id\":\"828706ac-a392-4f1f-a472-6ccfe6880165\",\"type\":\"LegendItem\"},{\"id\":\"26affce1-da29-4508-b328-c365600f823e\",\"type\":\"LegendItem\"}],\"location\":\"top_left\",\"plot\":{\"id\":\"d6621665-7730-463e-9b23-3710513c4455\",\"subtype\":\"Figure\",\"type\":\"Plot\"}},\"id\":\"55d0a035-3e21-4433-9129-e19ae1c41eb8\",\"type\":\"Legend\"},{\"attributes\":{\"plot\":{\"id\":\"d6621665-7730-463e-9b23-3710513c4455\",\"subtype\":\"Figure\",\"type\":\"Plot\"},\"ticker\":{\"id\":\"b4686fa1-99a9-42c1-81f5-46d3757dbb5d\",\"type\":\"BasicTicker\"}},\"id\":\"c8d7d797-0a41-4475-8b75-61a9cfbe2cbb\",\"type\":\"Grid\"},{\"attributes\":{\"overlay\":{\"id\":\"af4576ea-707a-4e81-80ae-9c13a6cafe41\",\"type\":\"BoxAnnotation\"}},\"id\":\"e6fb3be2-9345-47f3-8ed4-35ebb209eba0\",\"type\":\"BoxZoomTool\"},{\"attributes\":{\"plot\":null,\"text\":\"bicycle positions vs predicted positions\"},\"id\":\"cbada592-2de1-4a45-9f06-c419fd3a5cc0\",\"type\":\"Title\"},{\"attributes\":{\"source\":{\"id\":\"cdd12955-39c9-439c-a880-7587a2f89a24\",\"type\":\"ColumnDataSource\"}},\"id\":\"42dcc517-ab4f-469c-abd4-d07e8f500afa\",\"type\":\"CDSView\"},{\"attributes\":{},\"id\":\"aad88626-57e3-4ea3-92fa-96bfc53d28dd\",\"type\":\"BasicTickFormatter\"},{\"attributes\":{\"fill_color\":{\"value\":\"navy\"},\"line_color\":{\"value\":\"navy\"},\"size\":{\"units\":\"screen\",\"value\":3},\"x\":{\"field\":\"x\"},\"y\":{\"field\":\"y\"}},\"id\":\"2a0bbb89-f40c-40fc-9f05-9652b50f8d02\",\"type\":\"Circle\"},{\"attributes\":{},\"id\":\"6b64f533-8059-4240-8467-87d0fabd4aea\",\"type\":\"LinearScale\"},{\"attributes\":{\"data_source\":{\"id\":\"cdd12955-39c9-439c-a880-7587a2f89a24\",\"type\":\"ColumnDataSource\"},\"glyph\":{\"id\":\"2a0bbb89-f40c-40fc-9f05-9652b50f8d02\",\"type\":\"Circle\"},\"hover_glyph\":null,\"muted_glyph\":null,\"nonselection_glyph\":{\"id\":\"fa09b22d-db6c-4cbc-b939-52559e63ae9f\",\"type\":\"Circle\"},\"selection_glyph\":null,\"view\":{\"id\":\"42dcc517-ab4f-469c-abd4-d07e8f500afa\",\"type\":\"CDSView\"}},\"id\":\"e184abba-2279-4bee-b003-bffcc8f28102\",\"type\":\"GlyphRenderer\"},{\"attributes\":{},\"id\":\"d786a530-861d-46a3-af26-303506d6dfb8\",\"type\":\"LinearScale\"},{\"attributes\":{\"formatter\":{\"id\":\"aad88626-57e3-4ea3-92fa-96bfc53d28dd\",\"type\":\"BasicTickFormatter\"},\"plot\":{\"id\":\"d6621665-7730-463e-9b23-3710513c4455\",\"subtype\":\"Figure\",\"type\":\"Plot\"},\"ticker\":{\"id\":\"b4686fa1-99a9-42c1-81f5-46d3757dbb5d\",\"type\":\"BasicTicker\"}},\"id\":\"3e359218-fea8-49ca-b378-4d8337645565\",\"type\":\"LinearAxis\"},{\"attributes\":{\"active_drag\":\"auto\",\"active_inspect\":\"auto\",\"active_scroll\":\"auto\",\"active_tap\":\"auto\",\"tools\":[{\"id\":\"0fd75c2d-fad6-4de6-a85e-e968940ed6cd\",\"type\":\"HoverTool\"},{\"id\":\"e6fb3be2-9345-47f3-8ed4-35ebb209eba0\",\"type\":\"BoxZoomTool\"},{\"id\":\"357359d2-623f-4478-b36d-9ee859b4931c\",\"type\":\"ResetTool\"}]},\"id\":\"a774f361-574d-4e66-a588-1f2b175a15b6\",\"type\":\"Toolbar\"},{\"attributes\":{\"callback\":null,\"tooltips\":[[\"(x,y)\",\"($x, $y)\"]]},\"id\":\"0fd75c2d-fad6-4de6-a85e-e968940ed6cd\",\"type\":\"HoverTool\"},{\"attributes\":{\"source\":{\"id\":\"a0ec6245-2a19-41ff-965d-aba9b667eac1\",\"type\":\"ColumnDataSource\"}},\"id\":\"90e4317a-33a9-46f4-8702-3d83b94e259f\",\"type\":\"CDSView\"},{\"attributes\":{},\"id\":\"b4686fa1-99a9-42c1-81f5-46d3757dbb5d\",\"type\":\"BasicTicker\"},{\"attributes\":{\"formatter\":{\"id\":\"e980ff64-e3ba-4c9d-bcc6-eab734c31ac0\",\"type\":\"BasicTickFormatter\"},\"plot\":{\"id\":\"d6621665-7730-463e-9b23-3710513c4455\",\"subtype\":\"Figure\",\"type\":\"Plot\"},\"ticker\":{\"id\":\"84373d11-bea2-4813-a278-3393aeab2071\",\"type\":\"BasicTicker\"}},\"id\":\"f48fbcac-27d2-4e55-a2c9-4f8d39758968\",\"type\":\"LinearAxis\"},{\"attributes\":{\"label\":{\"value\":\"predicted\"},\"renderers\":[{\"id\":\"0b85d731-60da-4867-a021-ad868b086649\",\"type\":\"GlyphRenderer\"}]},\"id\":\"26affce1-da29-4508-b328-c365600f823e\",\"type\":\"LegendItem\"},{\"attributes\":{\"bottom_units\":\"screen\",\"fill_alpha\":{\"value\":0.5},\"fill_color\":{\"value\":\"lightgrey\"},\"left_units\":\"screen\",\"level\":\"overlay\",\"line_alpha\":{\"value\":1.0},\"line_color\":{\"value\":\"black\"},\"line_dash\":[4,4],\"line_width\":{\"value\":2},\"plot\":null,\"render_mode\":\"css\",\"right_units\":\"screen\",\"top_units\":\"screen\"},\"id\":\"af4576ea-707a-4e81-80ae-9c13a6cafe41\",\"type\":\"BoxAnnotation\"},{\"attributes\":{\"callback\":null},\"id\":\"452b7d09-be28-475a-b8a3-29c36de3e818\",\"type\":\"DataRange1d\"},{\"attributes\":{\"data_source\":{\"id\":\"a0ec6245-2a19-41ff-965d-aba9b667eac1\",\"type\":\"ColumnDataSource\"},\"glyph\":{\"id\":\"7d3ccf4b-f7e9-44bd-bb77-e66c7af05f4f\",\"type\":\"Square\"},\"hover_glyph\":null,\"muted_glyph\":null,\"nonselection_glyph\":{\"id\":\"3e79a5d5-9b6c-4d38-8ff9-5407f1c51a21\",\"type\":\"Square\"},\"selection_glyph\":null,\"view\":{\"id\":\"90e4317a-33a9-46f4-8702-3d83b94e259f\",\"type\":\"CDSView\"}},\"id\":\"0b85d731-60da-4867-a021-ad868b086649\",\"type\":\"GlyphRenderer\"},{\"attributes\":{},\"id\":\"357359d2-623f-4478-b36d-9ee859b4931c\",\"type\":\"ResetTool\"},{\"attributes\":{\"fill_alpha\":{\"value\":0.1},\"fill_color\":{\"value\":\"#1f77b4\"},\"line_alpha\":{\"value\":0.1},\"line_color\":{\"value\":\"#1f77b4\"},\"size\":{\"units\":\"screen\",\"value\":3},\"x\":{\"field\":\"x\"},\"y\":{\"field\":\"y\"}},\"id\":\"3e79a5d5-9b6c-4d38-8ff9-5407f1c51a21\",\"type\":\"Square\"},{\"attributes\":{},\"id\":\"84373d11-bea2-4813-a278-3393aeab2071\",\"type\":\"BasicTicker\"},{\"attributes\":{\"dimension\":1,\"plot\":{\"id\":\"d6621665-7730-463e-9b23-3710513c4455\",\"subtype\":\"Figure\",\"type\":\"Plot\"},\"ticker\":{\"id\":\"84373d11-bea2-4813-a278-3393aeab2071\",\"type\":\"BasicTicker\"}},\"id\":\"61fa90db-d935-481f-821f-b9e56c9ebc59\",\"type\":\"Grid\"},{\"attributes\":{\"callback\":null,\"column_names\":[\"x\",\"y\"],\"data\":{\"x\":{\"__ndarray__\":\"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\",\"dtype\":\"float64\",\"shape\":[467]},\"y\":{\"__ndarray__\":\"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\",\"dtype\":\"float64\",\"shape\":[467]}}},\"id\":\"a0ec6245-2a19-41ff-965d-aba9b667eac1\",\"type\":\"ColumnDataSource\"},{\"attributes\":{\"fill_alpha\":{\"value\":0.1},\"fill_color\":{\"value\":\"#1f77b4\"},\"line_alpha\":{\"value\":0.1},\"line_color\":{\"value\":\"#1f77b4\"},\"size\":{\"units\":\"screen\",\"value\":3},\"x\":{\"field\":\"x\"},\"y\":{\"field\":\"y\"}},\"id\":\"fa09b22d-db6c-4cbc-b939-52559e63ae9f\",\"type\":\"Circle\"},{\"attributes\":{\"below\":[{\"id\":\"3e359218-fea8-49ca-b378-4d8337645565\",\"type\":\"LinearAxis\"}],\"left\":[{\"id\":\"f48fbcac-27d2-4e55-a2c9-4f8d39758968\",\"type\":\"LinearAxis\"}],\"plot_height\":400,\"plot_width\":800,\"renderers\":[{\"id\":\"3e359218-fea8-49ca-b378-4d8337645565\",\"type\":\"LinearAxis\"},{\"id\":\"c8d7d797-0a41-4475-8b75-61a9cfbe2cbb\",\"type\":\"Grid\"},{\"id\":\"f48fbcac-27d2-4e55-a2c9-4f8d39758968\",\"type\":\"LinearAxis\"},{\"id\":\"61fa90db-d935-481f-821f-b9e56c9ebc59\",\"type\":\"Grid\"},{\"id\":\"af4576ea-707a-4e81-80ae-9c13a6cafe41\",\"type\":\"BoxAnnotation\"},{\"id\":\"55d0a035-3e21-4433-9129-e19ae1c41eb8\",\"type\":\"Legend\"},{\"id\":\"e184abba-2279-4bee-b003-bffcc8f28102\",\"type\":\"GlyphRenderer\"},{\"id\":\"0b85d731-60da-4867-a021-ad868b086649\",\"type\":\"GlyphRenderer\"}],\"title\":{\"id\":\"cbada592-2de1-4a45-9f06-c419fd3a5cc0\",\"type\":\"Title\"},\"toolbar\":{\"id\":\"a774f361-574d-4e66-a588-1f2b175a15b6\",\"type\":\"Toolbar\"},\"x_range\":{\"id\":\"231193aa-1d9b-4d1d-9e2b-af6a29a25682\",\"type\":\"DataRange1d\"},\"x_scale\":{\"id\":\"6b64f533-8059-4240-8467-87d0fabd4aea\",\"type\":\"LinearScale\"},\"y_range\":{\"id\":\"452b7d09-be28-475a-b8a3-29c36de3e818\",\"type\":\"DataRange1d\"},\"y_scale\":{\"id\":\"d786a530-861d-46a3-af26-303506d6dfb8\",\"type\":\"LinearScale\"}},\"id\":\"d6621665-7730-463e-9b23-3710513c4455\",\"subtype\":\"Figure\",\"type\":\"Plot\"},{\"attributes\":{\"callback\":null,\"column_names\":[\"x\",\"y\"],\"data\":{\"x\":{\"__ndarray__\":\"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\",\"dtype\":\"float64\",\"shape\":[467]},\"y\":{\"__ndarray__\":\"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\",\"dtype\":\"float64\",\"shape\":[467]}}},\"id\":\"cdd12955-39c9-439c-a880-7587a2f89a24\",\"type\":\"ColumnDataSource\"},{\"attributes\":{},\"id\":\"e980ff64-e3ba-4c9d-bcc6-eab734c31ac0\",\"type\":\"BasicTickFormatter\"},{\"attributes\":{\"label\":{\"value\":\"ground truth\"},\"renderers\":[{\"id\":\"e184abba-2279-4bee-b003-bffcc8f28102\",\"type\":\"GlyphRenderer\"}]},\"id\":\"828706ac-a392-4f1f-a472-6ccfe6880165\",\"type\":\"LegendItem\"},{\"attributes\":{\"fill_color\":{\"value\":\"firebrick\"},\"line_color\":{\"value\":\"firebrick\"},\"size\":{\"units\":\"screen\",\"value\":3},\"x\":{\"field\":\"x\"},\"y\":{\"field\":\"y\"}},\"id\":\"7d3ccf4b-f7e9-44bd-bb77-e66c7af05f4f\",\"type\":\"Square\"},{\"attributes\":{\"callback\":null},\"id\":\"231193aa-1d9b-4d1d-9e2b-af6a29a25682\",\"type\":\"DataRange1d\"}],\"root_ids\":[\"d6621665-7730-463e-9b23-3710513c4455\"]},\"title\":\"Bokeh Application\",\"version\":\"0.12.13\"}};\n",
       "  var render_items = [{\"docid\":\"5b1502f5-92c3-4549-aa54-49af47ca6c90\",\"elementid\":\"03b3d295-139f-454d-b364-620d2bdebfc4\",\"modelid\":\"d6621665-7730-463e-9b23-3710513c4455\"}];\n",
       "  root.Bokeh.embed.embed_items_notebook(docs_json, render_items);\n",
       "\n",
       "  }\n",
       "  if (root.Bokeh !== undefined) {\n",
       "    embed_document(root);\n",
       "  } else {\n",
       "    var attempts = 0;\n",
       "    var timer = setInterval(function(root) {\n",
       "      if (root.Bokeh !== undefined) {\n",
       "        embed_document(root);\n",
       "        clearInterval(timer);\n",
       "      }\n",
       "      attempts++;\n",
       "      if (attempts > 100) {\n",
       "        console.log(\"Bokeh: ERROR: Unable to run BokehJS code because BokehJS library is missing\")\n",
       "        clearInterval(timer);\n",
       "      }\n",
       "    }, 10, root)\n",
       "  }\n",
       "})(window);"
      ],
      "application/vnd.bokehjs_exec.v0+json": ""
     },
     "metadata": {
      "application/vnd.bokehjs_exec.v0+json": {
       "id": "d6621665-7730-463e-9b23-3710513c4455"
      }
     },
     "output_type": "display_data"
    }
   ],
   "source": [
    "plot_gt_vs_pred(data_radar)"
   ]
  },
  {
   "cell_type": "markdown",
   "metadata": {},
   "source": [
    "##### laser only"
   ]
  },
  {
   "cell_type": "code",
   "execution_count": 12,
   "metadata": {},
   "outputs": [
    {
     "data": {
      "text/html": [
       "\n",
       "<div class=\"bk-root\">\n",
       "    <div class=\"bk-plotdiv\" id=\"282726cf-9df3-4eaf-b7ce-affc13e217a3\"></div>\n",
       "</div>"
      ]
     },
     "metadata": {},
     "output_type": "display_data"
    },
    {
     "data": {
      "application/javascript": [
       "(function(root) {\n",
       "  function embed_document(root) {\n",
       "    \n",
       "  var docs_json = {\"18cd1b5c-9346-4757-bfbf-39f3cd7223c4\":{\"roots\":{\"references\":[{\"attributes\":{},\"id\":\"bf2a4733-99cc-4f8a-aee8-4db3969baf4d\",\"type\":\"ResetTool\"},{\"attributes\":{\"plot\":null,\"text\":\"bicycle positions vs predicted positions\"},\"id\":\"82cf38ca-6a93-473e-af32-e6c5a1b9afb1\",\"type\":\"Title\"},{\"attributes\":{\"active_drag\":\"auto\",\"active_inspect\":\"auto\",\"active_scroll\":\"auto\",\"active_tap\":\"auto\",\"tools\":[{\"id\":\"16d1d631-a1c7-4121-9645-36085cce0bb3\",\"type\":\"HoverTool\"},{\"id\":\"10e0bfde-0bc3-405e-98b2-7955fc352882\",\"type\":\"BoxZoomTool\"},{\"id\":\"bf2a4733-99cc-4f8a-aee8-4db3969baf4d\",\"type\":\"ResetTool\"}]},\"id\":\"a2c132cf-27ba-47e4-846b-d99aaa9c4330\",\"type\":\"Toolbar\"},{\"attributes\":{\"below\":[{\"id\":\"c067d906-a27c-4e62-b601-318fb94b3a39\",\"type\":\"LinearAxis\"}],\"left\":[{\"id\":\"29c73367-e922-4d2a-97f8-87595bfce963\",\"type\":\"LinearAxis\"}],\"plot_height\":400,\"plot_width\":800,\"renderers\":[{\"id\":\"c067d906-a27c-4e62-b601-318fb94b3a39\",\"type\":\"LinearAxis\"},{\"id\":\"ac2ad547-4578-43ef-b1f5-61dac2693606\",\"type\":\"Grid\"},{\"id\":\"29c73367-e922-4d2a-97f8-87595bfce963\",\"type\":\"LinearAxis\"},{\"id\":\"a28f3c0f-0a7d-49de-ac11-47d413d88848\",\"type\":\"Grid\"},{\"id\":\"7a307fe2-5dd3-4fd7-9581-2df372b92940\",\"type\":\"BoxAnnotation\"},{\"id\":\"ecef69d6-ca22-456c-9255-b5238631f332\",\"type\":\"Legend\"},{\"id\":\"2a8bf559-43e5-48de-893f-c3b8712e5c7a\",\"type\":\"GlyphRenderer\"},{\"id\":\"f10e31fb-fef1-4d17-9d08-cd3e00baa1a3\",\"type\":\"GlyphRenderer\"}],\"title\":{\"id\":\"82cf38ca-6a93-473e-af32-e6c5a1b9afb1\",\"type\":\"Title\"},\"toolbar\":{\"id\":\"a2c132cf-27ba-47e4-846b-d99aaa9c4330\",\"type\":\"Toolbar\"},\"x_range\":{\"id\":\"c665d766-5fe0-41e1-ba9d-ba4e335b11d9\",\"type\":\"DataRange1d\"},\"x_scale\":{\"id\":\"64a934d4-f64f-4963-b5b1-190d4aab3542\",\"type\":\"LinearScale\"},\"y_range\":{\"id\":\"636107ef-0589-45ae-b2fd-549e29918b79\",\"type\":\"DataRange1d\"},\"y_scale\":{\"id\":\"098d4c9b-8590-4fde-bb95-6049a323bdb3\",\"type\":\"LinearScale\"}},\"id\":\"acb75230-d719-4653-acae-8e071b343bcd\",\"subtype\":\"Figure\",\"type\":\"Plot\"},{\"attributes\":{\"formatter\":{\"id\":\"c8979272-40c4-4f0d-af69-3a84dffb23df\",\"type\":\"BasicTickFormatter\"},\"plot\":{\"id\":\"acb75230-d719-4653-acae-8e071b343bcd\",\"subtype\":\"Figure\",\"type\":\"Plot\"},\"ticker\":{\"id\":\"ebeede36-078b-4eeb-94aa-a1bd7c0a74e9\",\"type\":\"BasicTicker\"}},\"id\":\"29c73367-e922-4d2a-97f8-87595bfce963\",\"type\":\"LinearAxis\"},{\"attributes\":{\"callback\":null},\"id\":\"c665d766-5fe0-41e1-ba9d-ba4e335b11d9\",\"type\":\"DataRange1d\"},{\"attributes\":{},\"id\":\"098d4c9b-8590-4fde-bb95-6049a323bdb3\",\"type\":\"LinearScale\"},{\"attributes\":{},\"id\":\"64a934d4-f64f-4963-b5b1-190d4aab3542\",\"type\":\"LinearScale\"},{\"attributes\":{},\"id\":\"420a74c1-45d7-40c3-8adb-fa424999db9d\",\"type\":\"BasicTicker\"},{\"attributes\":{\"callback\":null},\"id\":\"636107ef-0589-45ae-b2fd-549e29918b79\",\"type\":\"DataRange1d\"},{\"attributes\":{\"plot\":{\"id\":\"acb75230-d719-4653-acae-8e071b343bcd\",\"subtype\":\"Figure\",\"type\":\"Plot\"},\"ticker\":{\"id\":\"420a74c1-45d7-40c3-8adb-fa424999db9d\",\"type\":\"BasicTicker\"}},\"id\":\"ac2ad547-4578-43ef-b1f5-61dac2693606\",\"type\":\"Grid\"},{\"attributes\":{\"fill_color\":{\"value\":\"navy\"},\"line_color\":{\"value\":\"navy\"},\"size\":{\"units\":\"screen\",\"value\":3},\"x\":{\"field\":\"x\"},\"y\":{\"field\":\"y\"}},\"id\":\"125e93f9-cd12-4a9a-a801-70a599a354b5\",\"type\":\"Circle\"},{\"attributes\":{\"formatter\":{\"id\":\"aa7d92e4-6a40-49c0-b810-ee0dfbd246a9\",\"type\":\"BasicTickFormatter\"},\"plot\":{\"id\":\"acb75230-d719-4653-acae-8e071b343bcd\",\"subtype\":\"Figure\",\"type\":\"Plot\"},\"ticker\":{\"id\":\"420a74c1-45d7-40c3-8adb-fa424999db9d\",\"type\":\"BasicTicker\"}},\"id\":\"c067d906-a27c-4e62-b601-318fb94b3a39\",\"type\":\"LinearAxis\"},{\"attributes\":{},\"id\":\"ebeede36-078b-4eeb-94aa-a1bd7c0a74e9\",\"type\":\"BasicTicker\"},{\"attributes\":{\"source\":{\"id\":\"862833a8-fe53-4ae9-a273-a877e8872757\",\"type\":\"ColumnDataSource\"}},\"id\":\"61757165-abe7-44ca-940b-57392997e4ff\",\"type\":\"CDSView\"},{\"attributes\":{\"source\":{\"id\":\"25ad44a4-0314-4a53-84d7-3af32ac6f196\",\"type\":\"ColumnDataSource\"}},\"id\":\"2f79f7a1-13d2-4d73-a11f-7966371f93d7\",\"type\":\"CDSView\"},{\"attributes\":{},\"id\":\"c8979272-40c4-4f0d-af69-3a84dffb23df\",\"type\":\"BasicTickFormatter\"},{\"attributes\":{\"fill_alpha\":{\"value\":0.1},\"fill_color\":{\"value\":\"#1f77b4\"},\"line_alpha\":{\"value\":0.1},\"line_color\":{\"value\":\"#1f77b4\"},\"size\":{\"units\":\"screen\",\"value\":3},\"x\":{\"field\":\"x\"},\"y\":{\"field\":\"y\"}},\"id\":\"241d4bd2-e324-477a-b177-75c97678059a\",\"type\":\"Circle\"},{\"attributes\":{\"callback\":null,\"column_names\":[\"x\",\"y\"],\"data\":{\"x\":{\"__ndarray__\":\"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\",\"dtype\":\"float64\",\"shape\":[468]},\"y\":{\"__ndarray__\":\"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\",\"dtype\":\"float64\",\"shape\":[468]}}},\"id\":\"862833a8-fe53-4ae9-a273-a877e8872757\",\"type\":\"ColumnDataSource\"},{\"attributes\":{\"click_policy\":\"hide\",\"items\":[{\"id\":\"6a9b19a3-81c1-4c2a-9e86-86ace511246c\",\"type\":\"LegendItem\"},{\"id\":\"36129bda-b54d-40c6-8a84-021351c23eab\",\"type\":\"LegendItem\"}],\"location\":\"top_left\",\"plot\":{\"id\":\"acb75230-d719-4653-acae-8e071b343bcd\",\"subtype\":\"Figure\",\"type\":\"Plot\"}},\"id\":\"ecef69d6-ca22-456c-9255-b5238631f332\",\"type\":\"Legend\"},{\"attributes\":{\"bottom_units\":\"screen\",\"fill_alpha\":{\"value\":0.5},\"fill_color\":{\"value\":\"lightgrey\"},\"left_units\":\"screen\",\"level\":\"overlay\",\"line_alpha\":{\"value\":1.0},\"line_color\":{\"value\":\"black\"},\"line_dash\":[4,4],\"line_width\":{\"value\":2},\"plot\":null,\"render_mode\":\"css\",\"right_units\":\"screen\",\"top_units\":\"screen\"},\"id\":\"7a307fe2-5dd3-4fd7-9581-2df372b92940\",\"type\":\"BoxAnnotation\"},{\"attributes\":{\"dimension\":1,\"plot\":{\"id\":\"acb75230-d719-4653-acae-8e071b343bcd\",\"subtype\":\"Figure\",\"type\":\"Plot\"},\"ticker\":{\"id\":\"ebeede36-078b-4eeb-94aa-a1bd7c0a74e9\",\"type\":\"BasicTicker\"}},\"id\":\"a28f3c0f-0a7d-49de-ac11-47d413d88848\",\"type\":\"Grid\"},{\"attributes\":{\"label\":{\"value\":\"ground truth\"},\"renderers\":[{\"id\":\"2a8bf559-43e5-48de-893f-c3b8712e5c7a\",\"type\":\"GlyphRenderer\"}]},\"id\":\"6a9b19a3-81c1-4c2a-9e86-86ace511246c\",\"type\":\"LegendItem\"},{\"attributes\":{\"overlay\":{\"id\":\"7a307fe2-5dd3-4fd7-9581-2df372b92940\",\"type\":\"BoxAnnotation\"}},\"id\":\"10e0bfde-0bc3-405e-98b2-7955fc352882\",\"type\":\"BoxZoomTool\"},{\"attributes\":{\"label\":{\"value\":\"predicted\"},\"renderers\":[{\"id\":\"f10e31fb-fef1-4d17-9d08-cd3e00baa1a3\",\"type\":\"GlyphRenderer\"}]},\"id\":\"36129bda-b54d-40c6-8a84-021351c23eab\",\"type\":\"LegendItem\"},{\"attributes\":{},\"id\":\"aa7d92e4-6a40-49c0-b810-ee0dfbd246a9\",\"type\":\"BasicTickFormatter\"},{\"attributes\":{\"data_source\":{\"id\":\"862833a8-fe53-4ae9-a273-a877e8872757\",\"type\":\"ColumnDataSource\"},\"glyph\":{\"id\":\"125e93f9-cd12-4a9a-a801-70a599a354b5\",\"type\":\"Circle\"},\"hover_glyph\":null,\"muted_glyph\":null,\"nonselection_glyph\":{\"id\":\"241d4bd2-e324-477a-b177-75c97678059a\",\"type\":\"Circle\"},\"selection_glyph\":null,\"view\":{\"id\":\"61757165-abe7-44ca-940b-57392997e4ff\",\"type\":\"CDSView\"}},\"id\":\"2a8bf559-43e5-48de-893f-c3b8712e5c7a\",\"type\":\"GlyphRenderer\"},{\"attributes\":{\"data_source\":{\"id\":\"25ad44a4-0314-4a53-84d7-3af32ac6f196\",\"type\":\"ColumnDataSource\"},\"glyph\":{\"id\":\"087dec29-1f8d-4246-9a80-aa8beb78714d\",\"type\":\"Square\"},\"hover_glyph\":null,\"muted_glyph\":null,\"nonselection_glyph\":{\"id\":\"068fa415-b1ac-48c1-9989-aad69e0b5dd4\",\"type\":\"Square\"},\"selection_glyph\":null,\"view\":{\"id\":\"2f79f7a1-13d2-4d73-a11f-7966371f93d7\",\"type\":\"CDSView\"}},\"id\":\"f10e31fb-fef1-4d17-9d08-cd3e00baa1a3\",\"type\":\"GlyphRenderer\"},{\"attributes\":{\"callback\":null,\"tooltips\":[[\"(x,y)\",\"($x, $y)\"]]},\"id\":\"16d1d631-a1c7-4121-9645-36085cce0bb3\",\"type\":\"HoverTool\"},{\"attributes\":{\"callback\":null,\"column_names\":[\"x\",\"y\"],\"data\":{\"x\":{\"__ndarray__\":\"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\",\"dtype\":\"float64\",\"shape\":[468]},\"y\":{\"__ndarray__\":\"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\",\"dtype\":\"float64\",\"shape\":[468]}}},\"id\":\"25ad44a4-0314-4a53-84d7-3af32ac6f196\",\"type\":\"ColumnDataSource\"},{\"attributes\":{\"fill_alpha\":{\"value\":0.1},\"fill_color\":{\"value\":\"#1f77b4\"},\"line_alpha\":{\"value\":0.1},\"line_color\":{\"value\":\"#1f77b4\"},\"size\":{\"units\":\"screen\",\"value\":3},\"x\":{\"field\":\"x\"},\"y\":{\"field\":\"y\"}},\"id\":\"068fa415-b1ac-48c1-9989-aad69e0b5dd4\",\"type\":\"Square\"},{\"attributes\":{\"fill_color\":{\"value\":\"firebrick\"},\"line_color\":{\"value\":\"firebrick\"},\"size\":{\"units\":\"screen\",\"value\":3},\"x\":{\"field\":\"x\"},\"y\":{\"field\":\"y\"}},\"id\":\"087dec29-1f8d-4246-9a80-aa8beb78714d\",\"type\":\"Square\"}],\"root_ids\":[\"acb75230-d719-4653-acae-8e071b343bcd\"]},\"title\":\"Bokeh Application\",\"version\":\"0.12.13\"}};\n",
       "  var render_items = [{\"docid\":\"18cd1b5c-9346-4757-bfbf-39f3cd7223c4\",\"elementid\":\"282726cf-9df3-4eaf-b7ce-affc13e217a3\",\"modelid\":\"acb75230-d719-4653-acae-8e071b343bcd\"}];\n",
       "  root.Bokeh.embed.embed_items_notebook(docs_json, render_items);\n",
       "\n",
       "  }\n",
       "  if (root.Bokeh !== undefined) {\n",
       "    embed_document(root);\n",
       "  } else {\n",
       "    var attempts = 0;\n",
       "    var timer = setInterval(function(root) {\n",
       "      if (root.Bokeh !== undefined) {\n",
       "        embed_document(root);\n",
       "        clearInterval(timer);\n",
       "      }\n",
       "      attempts++;\n",
       "      if (attempts > 100) {\n",
       "        console.log(\"Bokeh: ERROR: Unable to run BokehJS code because BokehJS library is missing\")\n",
       "        clearInterval(timer);\n",
       "      }\n",
       "    }, 10, root)\n",
       "  }\n",
       "})(window);"
      ],
      "application/vnd.bokehjs_exec.v0+json": ""
     },
     "metadata": {
      "application/vnd.bokehjs_exec.v0+json": {
       "id": "acb75230-d719-4653-acae-8e071b343bcd"
      }
     },
     "output_type": "display_data"
    }
   ],
   "source": [
    "plot_gt_vs_pred(data_laser)"
   ]
  },
  {
   "cell_type": "markdown",
   "metadata": {},
   "source": []
  }
 ],
 "metadata": {
  "kernelspec": {
   "display_name": "Python 3",
   "language": "python",
   "name": "python3"
  },
  "language_info": {
   "codemirror_mode": {
    "name": "ipython",
    "version": 3
   },
   "file_extension": ".py",
   "mimetype": "text/x-python",
   "name": "python",
   "nbconvert_exporter": "python",
   "pygments_lexer": "ipython3",
   "version": "3.6.4"
  }
 },
 "nbformat": 4,
 "nbformat_minor": 2
}
