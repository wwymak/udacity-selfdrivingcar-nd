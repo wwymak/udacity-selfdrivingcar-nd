{
 "cells": [
  {
   "cell_type": "markdown",
   "metadata": {},
   "source": [
    "In the fine tuning mobilenet to distinguish between cars and not cars, I split up the data according to Kera's \n",
    "`Imagedatagenerator`'s `flow_from_directory` requirements-- this code is how I did so"
   ]
  },
  {
   "cell_type": "code",
   "execution_count": 4,
   "metadata": {
    "collapsed": true
   },
   "outputs": [],
   "source": [
    "import glob\n",
    "from shutil import copyfile\n",
    "import sklearn\n",
    "from sklearn.model_selection import train_test_split\n",
    "from sklearn.utils import shuffle"
   ]
  },
  {
   "cell_type": "code",
   "execution_count": 5,
   "metadata": {},
   "outputs": [],
   "source": [
    "img_extension = ['.png', '.jpg']\n",
    "cars = []\n",
    "notcars = []\n",
    "for ext in img_extension:\n",
    "    cars.extend(glob.glob('data/vehicles/**/*' + ext, recursive=True))\n",
    "    notcars.extend(glob.glob('data/non-vehicles/**/*' + ext, recursive=True))\n",
    "cars = shuffle(cars)\n",
    "notcars= shuffle(notcars)"
   ]
  },
  {
   "cell_type": "code",
   "execution_count": 6,
   "metadata": {
    "collapsed": true
   },
   "outputs": [],
   "source": [
    "import os, sys\n",
    "current_dir = os.getcwd()\n",
    "DATA_HOME_DIR = current_dir+'/data_keras'"
   ]
  },
  {
   "cell_type": "code",
   "execution_count": 8,
   "metadata": {
    "collapsed": true
   },
   "outputs": [],
   "source": [
    "train_len_cars = int(0.8 * len(cars))\n",
    "train_len_notcars = int(0.8 * len(notcars))\n",
    "    \n",
    "for i in range(int(0.2 * len(cars))): \n",
    "    filename = os.path.basename(os.path.normpath(cars[i + train_len_cars - 1]))\n",
    "    copyfile(cars[i + train_len_cars], DATA_HOME_DIR+'/test/cars/' + filename)\n",
    "\n",
    "for i in range(int(0.2 * len(notcars))): \n",
    "    filename = os.path.basename(os.path.normpath(notcars[i + train_len_notcars -1]))\n",
    "    copyfile(notcars[i  +train_len_notcars], DATA_HOME_DIR+'/test/notcars/' + filename)"
   ]
  },
  {
   "cell_type": "code",
   "execution_count": null,
   "metadata": {
    "collapsed": true
   },
   "outputs": [],
   "source": []
  }
 ],
 "metadata": {
  "anaconda-cloud": {},
  "kernelspec": {
   "display_name": "Python [default]",
   "language": "python",
   "name": "python3"
  },
  "language_info": {
   "codemirror_mode": {
    "name": "ipython",
    "version": 3
   },
   "file_extension": ".py",
   "mimetype": "text/x-python",
   "name": "python",
   "nbconvert_exporter": "python",
   "pygments_lexer": "ipython3",
   "version": "3.5.2"
  }
 },
 "nbformat": 4,
 "nbformat_minor": 2
}
