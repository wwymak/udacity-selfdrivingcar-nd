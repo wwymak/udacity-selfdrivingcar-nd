{
 "cells": [
  {
   "cell_type": "code",
   "execution_count": 1,
   "metadata": {
    "collapsed": true
   },
   "outputs": [],
   "source": [
    "import pickle\n",
    "import numpy as np\n",
    "import pandas as pd\n",
    "import cv2\n",
    "from sklearn.utils import class_weight"
   ]
  },
  {
   "cell_type": "code",
   "execution_count": 11,
   "metadata": {
    "collapsed": false
   },
   "outputs": [],
   "source": [
    "from keras.models import Sequential, load_model\n",
    "from keras.layers import Dense, Activation, Flatten, Dropout, Conv2D, MaxPooling2D, Concatenate\n",
    "from keras import utils\n",
    "from keras.callbacks import Callback, LambdaCallback, EarlyStopping, ModelCheckpoint\n",
    "from keras.losses import categorical_crossentropy\n",
    "from keras.optimizers import Adadelta, Adam\n",
    "from keras import backend as K\n",
    "from keras.preprocessing import image\n",
    "from keras.layers.normalization import BatchNormalization"
   ]
  },
  {
   "cell_type": "code",
   "execution_count": 3,
   "metadata": {
    "collapsed": true
   },
   "outputs": [],
   "source": [
    "import matplotlib.pyplot as plt\n",
    "%matplotlib inline\n",
    "%config InlineBackend.figure_format = 'retina'\n",
    "import seaborn as sns\n",
    "sns.set_style(\"whitegrid\")"
   ]
  },
  {
   "cell_type": "code",
   "execution_count": 5,
   "metadata": {
    "collapsed": true
   },
   "outputs": [],
   "source": [
    "X_train_hist_norm1 =np.load('data/X_train_hist_norm1.npy')\n",
    "X_valid_hist_norm1 =np.load('data/X_valid_hist_norm1.npy')\n",
    "X_test_hist_norm1 = np.load('data/X_test_hist_norm1.npy')"
   ]
  },
  {
   "cell_type": "code",
   "execution_count": 9,
   "metadata": {
    "collapsed": true
   },
   "outputs": [],
   "source": [
    "datagen = image.ImageDataGenerator(\n",
    "    featurewise_center=False,\n",
    "    featurewise_std_normalization=False,\n",
    "    width_shift_range=0.1,\n",
    "    height_shift_range=0.1,\n",
    "    zoom_range=0.2,\n",
    "    shear_range=0.1,\n",
    "    rotation_range=10.)"
   ]
  },
  {
   "cell_type": "code",
   "execution_count": 20,
   "metadata": {
    "collapsed": false
   },
   "outputs": [],
   "source": [
    "def mscn(ksize=(3,3), dropout=0.25): #taking my inspiration from vgg, a deeper network\n",
    "    input_shape = (32,32,3)\n",
    "    model = Sequential()\n",
    "    model.add(Conv2D(32, kernel_size=ksize, activation='relu', padding='same', name='set1_conv1',input_shape=input_shape))\n",
    "    model.add(BatchNormalization())\n",
    "    model.add(Conv2D(32, kernel_size=ksize, activation='relu', padding='same', name='set1_conv2'))\n",
    "    model.add(BatchNormalization())\n",
    "    model.add(MaxPooling2D(pool_size=(2, 2),strides=(2, 2), name='set1_pool'))\n",
    "    \n",
    "    model.add(Conv2D(64, kernel_size=ksize, activation='relu', padding='same', name='set2_conv1'))\n",
    "    model.add(BatchNormalization())\n",
    "    model.add(Conv2D(64, kernel_size=ksize, activation='relu', padding='same', name='set2_conv2'))\n",
    "    model.add(BatchNormalization())\n",
    "    model.add(Conv2D(64, kernel_size=ksize, activation='relu', padding='same', name='set2_conv3'))\n",
    "    model.add(BatchNormalization())\n",
    "    model.add(MaxPooling2D(pool_size=(2, 2), strides=(2, 2),name='set2_pool'))\n",
    "    model.add(Flatten())\n",
    "    \n",
    "    model1 = Sequential()\n",
    "    model1.add(Conv2D(32, kernel_size=ksize, activation='relu', padding='same', name='set1b_conv1',input_shape=input_shape))\n",
    "    model1.add(BatchNormalization())\n",
    "    model1.add(Conv2D(32, kernel_size=ksize, activation='relu', padding='same', name='set1b_conv2'))\n",
    "    model1.add(BatchNormalization())\n",
    "    model1.add(MaxPooling2D(pool_size=(2, 2),strides=(2, 2), name='set1b_pool'))\n",
    "    model1.add(Flatten())\n",
    "    \n",
    "    merged_model = Concatenate([model, model1])\n",
    "    \n",
    "    final_model = Sequential()                     \n",
    "    final_model.add(merged_model, input_shape=K.shape(merged_model))\n",
    "    final_model.add(Dense(1024, activation='relu', name='fc1'))\n",
    "    final_model.add(BatchNormalization())\n",
    "    final_model.add(Dropout(dropout))\n",
    "    final_model.add(Dense(512, activation='relu' , name='fc2'))\n",
    "    final_model.add(BatchNormalization())\n",
    "    final_model.add(Dropout(dropout))\n",
    "    final_model.add(Dense(n_classes, activation='softmax', name='final'))\n",
    "    final_model.compile(loss=categorical_crossentropy,\n",
    "              optimizer=Adam(),\n",
    "              metrics=['accuracy'])\n",
    "    return model"
   ]
  },
  {
   "cell_type": "code",
   "execution_count": 21,
   "metadata": {
    "collapsed": false
   },
   "outputs": [
    {
     "ename": "ValueError",
     "evalue": "The first layer in a Sequential model must get an `input_shape` or `batch_input_shape` argument.",
     "output_type": "error",
     "traceback": [
      "\u001b[0;31m----------------------------------------\u001b[0m",
      "\u001b[0;31mValueError\u001b[0mTraceback (most recent call last)",
      "\u001b[0;32m<ipython-input-21-7831cc4c9c0a>\u001b[0m in \u001b[0;36m<module>\u001b[0;34m()\u001b[0m\n\u001b[1;32m      2\u001b[0m \u001b[0mbatch_size\u001b[0m \u001b[0;34m=\u001b[0m \u001b[0;36m32\u001b[0m\u001b[0;34m\u001b[0m\u001b[0m\n\u001b[1;32m      3\u001b[0m \u001b[0mepochs\u001b[0m \u001b[0;34m=\u001b[0m \u001b[0;36m80\u001b[0m\u001b[0;34m\u001b[0m\u001b[0m\n\u001b[0;32m----> 4\u001b[0;31m \u001b[0mmodel\u001b[0m \u001b[0;34m=\u001b[0m \u001b[0mmscn\u001b[0m\u001b[0;34m(\u001b[0m\u001b[0;34m)\u001b[0m\u001b[0;34m\u001b[0m\u001b[0m\n\u001b[0m\u001b[1;32m      5\u001b[0m \u001b[0;34m\u001b[0m\u001b[0m\n\u001b[1;32m      6\u001b[0m history = model.fit_generator(datagen.flow(X_train_hist_norm1, y_train_cat, batch_size=batch_size),\n",
      "\u001b[0;32m<ipython-input-20-c84f95b77600>\u001b[0m in \u001b[0;36mmscn\u001b[0;34m(ksize, dropout)\u001b[0m\n\u001b[1;32m     28\u001b[0m \u001b[0;34m\u001b[0m\u001b[0m\n\u001b[1;32m     29\u001b[0m     \u001b[0mfinal_model\u001b[0m \u001b[0;34m=\u001b[0m \u001b[0mSequential\u001b[0m\u001b[0;34m(\u001b[0m\u001b[0;34m)\u001b[0m\u001b[0;34m\u001b[0m\u001b[0m\n\u001b[0;32m---> 30\u001b[0;31m     \u001b[0mfinal_model\u001b[0m\u001b[0;34m.\u001b[0m\u001b[0madd\u001b[0m\u001b[0;34m(\u001b[0m\u001b[0mmerged_model\u001b[0m\u001b[0;34m)\u001b[0m\u001b[0;34m\u001b[0m\u001b[0m\n\u001b[0m\u001b[1;32m     31\u001b[0m     \u001b[0mfinal_model\u001b[0m\u001b[0;34m.\u001b[0m\u001b[0madd\u001b[0m\u001b[0;34m(\u001b[0m\u001b[0mDense\u001b[0m\u001b[0;34m(\u001b[0m\u001b[0;36m1024\u001b[0m\u001b[0;34m,\u001b[0m \u001b[0mactivation\u001b[0m\u001b[0;34m=\u001b[0m\u001b[0;34m'relu'\u001b[0m\u001b[0;34m,\u001b[0m \u001b[0mname\u001b[0m\u001b[0;34m=\u001b[0m\u001b[0;34m'fc1'\u001b[0m\u001b[0;34m)\u001b[0m\u001b[0;34m)\u001b[0m\u001b[0;34m\u001b[0m\u001b[0m\n\u001b[1;32m     32\u001b[0m     \u001b[0mfinal_model\u001b[0m\u001b[0;34m.\u001b[0m\u001b[0madd\u001b[0m\u001b[0;34m(\u001b[0m\u001b[0mBatchNormalization\u001b[0m\u001b[0;34m(\u001b[0m\u001b[0;34m)\u001b[0m\u001b[0;34m)\u001b[0m\u001b[0;34m\u001b[0m\u001b[0m\n",
      "\u001b[0;32m/root/anaconda3/lib/python3.6/site-packages/keras/models.py\u001b[0m in \u001b[0;36madd\u001b[0;34m(self, layer)\u001b[0m\n\u001b[1;32m    449\u001b[0m                     \u001b[0;31m# know about its input shape. Otherwise, that's an error.\u001b[0m\u001b[0;34m\u001b[0m\u001b[0;34m\u001b[0m\u001b[0m\n\u001b[1;32m    450\u001b[0m                     \u001b[0;32mif\u001b[0m \u001b[0;32mnot\u001b[0m \u001b[0mhasattr\u001b[0m\u001b[0;34m(\u001b[0m\u001b[0mlayer\u001b[0m\u001b[0;34m,\u001b[0m \u001b[0;34m'batch_input_shape'\u001b[0m\u001b[0;34m)\u001b[0m\u001b[0;34m:\u001b[0m\u001b[0;34m\u001b[0m\u001b[0m\n\u001b[0;32m--> 451\u001b[0;31m                         raise ValueError('The first layer in a '\n\u001b[0m\u001b[1;32m    452\u001b[0m                                          \u001b[0;34m'Sequential model must '\u001b[0m\u001b[0;34m\u001b[0m\u001b[0m\n\u001b[1;32m    453\u001b[0m                                          \u001b[0;34m'get an `input_shape` or '\u001b[0m\u001b[0;34m\u001b[0m\u001b[0m\n",
      "\u001b[0;31mValueError\u001b[0m: The first layer in a Sequential model must get an `input_shape` or `batch_input_shape` argument."
     ]
    }
   ],
   "source": [
    "K.clear_session()\n",
    "batch_size = 32\n",
    "epochs = 80\n",
    "model = mscn()\n",
    "\n",
    "history = model.fit_generator(datagen.flow(X_train_hist_norm1, y_train_cat, batch_size=batch_size),\n",
    "                    steps_per_epoch=X_train_hist_norm1.shape[0],\n",
    "                    epochs=epochs,\n",
    "                      verbose=0,\n",
    "                    validation_data=(X_valid_hist_norm1, y_valid_cat),\n",
    "                    callbacks=[logging_callback,\n",
    "                               ModelCheckpoint('models/mscn1.h5', save_best_only=True)\n",
    "                              ])"
   ]
  },
  {
   "cell_type": "code",
   "execution_count": null,
   "metadata": {
    "collapsed": true
   },
   "outputs": [],
   "source": [
    "## Multi scale CNN in Keras Python\n",
    "## https://i.stack.imgur.com/2H4xD.png\n",
    "\n",
    "#main CNN model - CNN1\n",
    "main_model = Sequential()\n",
    "main_model.add(Convolution2D(32, 3, 3, input_shape=(3, 224, 224)))\n",
    "main_model.add(Activation('relu'))\n",
    "main_model.add(MaxPooling2D(pool_size=(2, 2)))\n",
    "\n",
    "main_model.add(Convolution2D(32, 3, 3))\n",
    "main_model.add(Activation('relu'))\n",
    "main_model.add(MaxPooling2D(pool_size=(2, 2)))\n",
    "\n",
    "main_model.add(Convolution2D(64, 3, 3))\n",
    "main_model.add(Activation('relu'))\n",
    "main_model.add(MaxPooling2D(pool_size=(2, 2))) # the main_model so far outputs 3D feature maps (height, width, features)\n",
    "\n",
    "main_model.add(Flatten())\n",
    "\n",
    "#lower features model - CNN2\n",
    "lower_model1 = Sequential()\n",
    "lower_model1.add(Convolution2D(32, 3, 3, input_shape=(3, 224, 224)))\n",
    "lower_model1.add(Activation('relu'))\n",
    "lower_model1.add(MaxPooling2D(pool_size=(2, 2)))\n",
    "lower_model1.add(Flatten())\n",
    "\n",
    "#lower features model - CNN3\n",
    "lower_model2 = Sequential()\n",
    "lower_model2.add(Convolution2D(32, 3, 3, input_shape=(3, 224, 224)))\n",
    "lower_model2.add(Activation('relu'))\n",
    "lower_model2.add(MaxPooling2D(pool_size=(2, 2)))\n",
    "lower_model2.add(Flatten())\n",
    "\n",
    "#merged model\n",
    "merged_model = Merge([main_model, lower_model1, lower_model2], mode='concat')\n",
    "\n",
    "final_model = Sequential()                     \n",
    "final_model.add(merged_model)                  \n",
    "final_model.add(Dense(64))\n",
    "final_model.add(Activation('relu'))\n",
    "final_model.add(Dropout(0.5))      \n",
    "final_model.add(Dense(1))\n",
    "final_model.add(Activation('sigmoid'))\n",
    "final_model.compile(loss='binary_crossentropy', optimizer='rmsprop', metrics=['accuracy'])\n",
    "\n",
    "print 'About to start training merged CNN'\n",
    "train_datagen = ImageDataGenerator(rescale=1./255, shear_range=0.2, zoom_range=0.2, horizontal_flip=True)\n",
    "train_generator = train_datagen.flow_from_directory(train_data_dir, target_size=(224, 224), batch_size=32, class_mode='binary')\n",
    "\n",
    "test_datagen = ImageDataGenerator(rescale=1./255)\n",
    "test_generator = test_datagen.flow_from_directory(args.test_images, target_size=(224, 224), batch_size=32, class_mode='binary')\n",
    "\n",
    "final_train_generator = zip(train_generator, train_generator, train_generator)\n",
    "final_test_generator  = zip(test_generator, test_generator, test_generator)\n",
    "final_model.fit_generator(final_train_generator, samples_per_epoch=nb_train_samples, nb_epoch=nb_epoch, validation_data=final_test_generator, nb_val_samples=nb_validation_samples)"
   ]
  }
 ],
 "metadata": {
  "kernelspec": {
   "display_name": "Python 3",
   "language": "python",
   "name": "python3"
  },
  "language_info": {
   "codemirror_mode": {
    "name": "ipython",
    "version": 3
   },
   "file_extension": ".py",
   "mimetype": "text/x-python",
   "name": "python",
   "nbconvert_exporter": "python",
   "pygments_lexer": "ipython3",
   "version": "3.6.0"
  }
 },
 "nbformat": 4,
 "nbformat_minor": 2
}
